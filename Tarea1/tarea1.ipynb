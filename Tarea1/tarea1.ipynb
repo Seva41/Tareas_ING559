{
 "cells": [
  {
   "cell_type": "markdown",
   "metadata": {},
   "source": [
    "### Tarea 1\n",
    "#### Métodos de Aprendizajes de Máquinas en Data Science"
   ]
  },
  {
   "cell_type": "code",
   "execution_count": 1,
   "metadata": {},
   "outputs": [],
   "source": [
    "#Instalando las librerias requeridas\n",
    "#import sys\n",
    "#!{sys.executable} -m pip install numpy pandas plotnine sklearn"
   ]
  },
  {
   "cell_type": "code",
   "execution_count": 11,
   "metadata": {},
   "outputs": [],
   "source": [
    "import pandas as pd\n",
    "import numpy as np\n",
    "from datetime import datetime\n",
    "#from plotnine import *"
   ]
  },
  {
   "cell_type": "code",
   "execution_count": 9,
   "metadata": {},
   "outputs": [
    {
     "name": "stdout",
     "output_type": "stream",
     "text": [
      "Python version: 3.7.9 (tags/v3.7.9:13c94747c7, Aug 17 2020, 16:30:00) [MSC v.1900 64 bit (AMD64)]\n",
      "Numpy version: 1.19.3\n"
     ]
    }
   ],
   "source": [
    "import sys\n",
    "print(\"Python version:\",sys.version)\n",
    "print(\"Numpy version:\",np.__version__)"
   ]
  },
  {
   "cell_type": "code",
   "execution_count": 10,
   "metadata": {},
   "outputs": [
    {
     "name": "stdout",
     "output_type": "stream",
     "text": [
      "Unnamed: 0          int64\n",
      "LatitudPAB        float64\n",
      "LongitudPAB       float64\n",
      "LatitudCOM        float64\n",
      "LongitudCOM       float64\n",
      "Horas               int64\n",
      "DoW                object\n",
      "Hora_Inicio        object\n",
      "Hora_Fin           object\n",
      "distKilometros    float64\n",
      "dtype: object\n",
      "   Unnamed: 0  LatitudPAB  LongitudPAB  LatitudCOM  LongitudCOM  Horas  \\\n",
      "0           1  -33.484436   -70.734913  -33.437822   -70.647421      1   \n",
      "1           3  -33.523092   -70.782872  -33.437234   -70.647150      0   \n",
      "2           4  -33.455709   -70.631109  -33.437341   -70.647136      0   \n",
      "3           5  -33.294220   -70.883511  -33.437682   -70.647190      0   \n",
      "4           6  -33.437601   -70.647152  -33.294479   -70.883178     10   \n",
      "5           7  -33.581636   -70.589615  -33.437660   -70.647082      0   \n",
      "6           8  -33.454111   -70.680542  -33.437381   -70.646830      0   \n",
      "7           9  -33.516536   -70.652969  -33.440460   -70.647180      0   \n",
      "8          11  -33.541820   -70.620224  -33.437560   -70.647097      0   \n",
      "9          12  -33.466311   -70.745337  -33.437429   -70.647371      0   \n",
      "\n",
      "       DoW     Hora_Inicio        Hora_Fin  distKilometros  \n",
      "0  sÃ¡bado  01-03-14 01:28  01-03-14 01:59        9.640889  \n",
      "1  sÃ¡bado  01-03-14 00:04  01-03-14 00:44       15.816194  \n",
      "2  sÃ¡bado  01-03-14 00:33  01-03-14 00:42        2.529204  \n",
      "3  sÃ¡bado  01-03-14 00:20  01-03-14 00:56       27.161926  \n",
      "4  sÃ¡bado  01-03-14 10:16  01-03-14 10:53       27.117458  \n",
      "5  sÃ¡bado  01-03-14 00:24  01-03-14 00:54       16.891652  \n",
      "6  sÃ¡bado  01-03-14 00:18  01-03-14 00:37        3.643364  \n",
      "7  sÃ¡bado  01-03-14 00:30  01-03-14 00:56        8.485850  \n",
      "8  sÃ¡bado  01-03-14 00:24  01-03-14 00:43       11.871226  \n",
      "9  sÃ¡bado  01-03-14 00:20  01-03-14 00:53        9.650366  \n"
     ]
    }
   ],
   "source": [
    "df = pd.read_csv('dataTaxi.csv')\n",
    "print(df.dtypes)\n",
    "print(df.head(10))"
   ]
  },
  {
   "cell_type": "code",
   "execution_count": 12,
   "metadata": {},
   "outputs": [],
   "source": [
    "# Eliminando la columna Unnamed: 0\n",
    "df = df.drop(columns=['Unnamed: 0'])\n",
    "\n",
    "# Convirtiendo las columnas de Hora_Inicio y Hora_Fin a formato datetime\n",
    "df['Hora_Inicio'] = pd.to_datetime(df['Hora_Inicio'], format='%d-%m-%y %H:%M')\n",
    "df['Hora_Fin'] = pd.to_datetime(df['Hora_Fin'], format='%d-%m-%y %H:%M')\n",
    "\n",
    "# Eliminando los registros con valores blancos\n",
    "df['DoW'] = df['DoW'].str.strip()"
   ]
  },
  {
   "cell_type": "code",
   "execution_count": 13,
   "metadata": {},
   "outputs": [
    {
     "name": "stdout",
     "output_type": "stream",
     "text": [
      "   LatitudPAB  LongitudPAB  LatitudCOM  LongitudCOM         Hora_Inicio  \\\n",
      "0  -33.484436   -70.734913  -33.437822   -70.647421 2014-03-01 01:28:00   \n",
      "1  -33.523092   -70.782872  -33.437234   -70.647150 2014-03-01 00:04:00   \n",
      "2  -33.455709   -70.631109  -33.437341   -70.647136 2014-03-01 00:33:00   \n",
      "3  -33.294220   -70.883511  -33.437682   -70.647190 2014-03-01 00:20:00   \n",
      "4  -33.437601   -70.647152  -33.294479   -70.883178 2014-03-01 10:16:00   \n",
      "\n",
      "             Hora_Fin  distKilometros  \n",
      "0 2014-03-01 01:59:00        9.640889  \n",
      "1 2014-03-01 00:44:00       15.816194  \n",
      "2 2014-03-01 00:42:00        2.529204  \n",
      "3 2014-03-01 00:56:00       27.161926  \n",
      "4 2014-03-01 10:53:00       27.117458  \n"
     ]
    }
   ],
   "source": [
    "cols = columnas_seleccionadas = ['LatitudPAB', 'LongitudPAB', 'LatitudCOM', 'LongitudCOM', 'Hora_Inicio', 'Hora_Fin', 'distKilometros']\n",
    "df_s = df[cols]\n",
    "print(df_s.head())"
   ]
  },
  {
   "cell_type": "code",
   "execution_count": 14,
   "metadata": {},
   "outputs": [
    {
     "name": "stdout",
     "output_type": "stream",
     "text": [
      "LatitudPAB        0\n",
      "LongitudPAB       0\n",
      "LatitudCOM        0\n",
      "LongitudCOM       0\n",
      "Hora_Inicio       0\n",
      "Hora_Fin          0\n",
      "distKilometros    0\n",
      "dtype: int64\n"
     ]
    }
   ],
   "source": [
    "nulos = df_s.isnull().sum()\n",
    "print(nulos)"
   ]
  },
  {
   "cell_type": "code",
   "execution_count": null,
   "metadata": {},
   "outputs": [],
   "source": []
  }
 ],
 "metadata": {
  "kernelspec": {
   "display_name": "Python 3",
   "language": "python",
   "name": "python3"
  },
  "language_info": {
   "codemirror_mode": {
    "name": "ipython",
    "version": 3
   },
   "file_extension": ".py",
   "mimetype": "text/x-python",
   "name": "python",
   "nbconvert_exporter": "python",
   "pygments_lexer": "ipython3",
   "version": "3.7.9"
  },
  "orig_nbformat": 4
 },
 "nbformat": 4,
 "nbformat_minor": 2
}
