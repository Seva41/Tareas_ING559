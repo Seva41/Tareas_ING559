{
 "cells": [
  {
   "cell_type": "markdown",
   "id": "fba328f5",
   "metadata": {},
   "source": [
    "## Tarea - Métodos de Aprendizajes de Máquinas en Data Science\n",
    "\n",
    "### Integrantes: Sofía Álvarez, Sebastián Dinator."
   ]
  },
  {
   "cell_type": "code",
   "execution_count": 1,
   "id": "5fc96dfe",
   "metadata": {},
   "outputs": [],
   "source": [
    "# Importando librerías\n",
    "import pandas as pd\n",
    "import numpy as np\n",
    "from sympy import Matrix\n",
    "from datetime import datetime\n",
    "from sklearn.preprocessing import StandardScaler\n",
    "from sklearn.cluster import KMeans\n",
    "\n",
    "#Graficos\n",
    "from plotnine import ggplot\n",
    "from plotnine import *"
   ]
  },
  {
   "cell_type": "code",
   "execution_count": 2,
   "id": "c30472e6",
   "metadata": {},
   "outputs": [
    {
     "data": {
      "text/html": [
       "<div>\n",
       "<style scoped>\n",
       "    .dataframe tbody tr th:only-of-type {\n",
       "        vertical-align: middle;\n",
       "    }\n",
       "\n",
       "    .dataframe tbody tr th {\n",
       "        vertical-align: top;\n",
       "    }\n",
       "\n",
       "    .dataframe thead th {\n",
       "        text-align: right;\n",
       "    }\n",
       "</style>\n",
       "<table border=\"1\" class=\"dataframe\">\n",
       "  <thead>\n",
       "    <tr style=\"text-align: right;\">\n",
       "      <th></th>\n",
       "      <th>Unnamed: 0</th>\n",
       "      <th>LatitudPAB</th>\n",
       "      <th>LongitudPAB</th>\n",
       "      <th>LatitudCOM</th>\n",
       "      <th>LongitudCOM</th>\n",
       "      <th>Horas</th>\n",
       "      <th>DoW</th>\n",
       "      <th>Hora_Inicio</th>\n",
       "      <th>Hora_Fin</th>\n",
       "      <th>distKilometros</th>\n",
       "    </tr>\n",
       "  </thead>\n",
       "  <tbody>\n",
       "    <tr>\n",
       "      <th>0</th>\n",
       "      <td>1</td>\n",
       "      <td>-33.484436</td>\n",
       "      <td>-70.734913</td>\n",
       "      <td>-33.437822</td>\n",
       "      <td>-70.647421</td>\n",
       "      <td>1</td>\n",
       "      <td>sÃ¡bado</td>\n",
       "      <td>01-03-14 01:28</td>\n",
       "      <td>01-03-14 01:59</td>\n",
       "      <td>9.640889</td>\n",
       "    </tr>\n",
       "    <tr>\n",
       "      <th>1</th>\n",
       "      <td>3</td>\n",
       "      <td>-33.523092</td>\n",
       "      <td>-70.782872</td>\n",
       "      <td>-33.437234</td>\n",
       "      <td>-70.647150</td>\n",
       "      <td>0</td>\n",
       "      <td>sÃ¡bado</td>\n",
       "      <td>01-03-14 00:04</td>\n",
       "      <td>01-03-14 00:44</td>\n",
       "      <td>15.816194</td>\n",
       "    </tr>\n",
       "    <tr>\n",
       "      <th>2</th>\n",
       "      <td>4</td>\n",
       "      <td>-33.455709</td>\n",
       "      <td>-70.631109</td>\n",
       "      <td>-33.437341</td>\n",
       "      <td>-70.647136</td>\n",
       "      <td>0</td>\n",
       "      <td>sÃ¡bado</td>\n",
       "      <td>01-03-14 00:33</td>\n",
       "      <td>01-03-14 00:42</td>\n",
       "      <td>2.529204</td>\n",
       "    </tr>\n",
       "    <tr>\n",
       "      <th>3</th>\n",
       "      <td>5</td>\n",
       "      <td>-33.294220</td>\n",
       "      <td>-70.883511</td>\n",
       "      <td>-33.437682</td>\n",
       "      <td>-70.647190</td>\n",
       "      <td>0</td>\n",
       "      <td>sÃ¡bado</td>\n",
       "      <td>01-03-14 00:20</td>\n",
       "      <td>01-03-14 00:56</td>\n",
       "      <td>27.161926</td>\n",
       "    </tr>\n",
       "    <tr>\n",
       "      <th>4</th>\n",
       "      <td>6</td>\n",
       "      <td>-33.437601</td>\n",
       "      <td>-70.647152</td>\n",
       "      <td>-33.294479</td>\n",
       "      <td>-70.883178</td>\n",
       "      <td>10</td>\n",
       "      <td>sÃ¡bado</td>\n",
       "      <td>01-03-14 10:16</td>\n",
       "      <td>01-03-14 10:53</td>\n",
       "      <td>27.117458</td>\n",
       "    </tr>\n",
       "    <tr>\n",
       "      <th>...</th>\n",
       "      <td>...</td>\n",
       "      <td>...</td>\n",
       "      <td>...</td>\n",
       "      <td>...</td>\n",
       "      <td>...</td>\n",
       "      <td>...</td>\n",
       "      <td>...</td>\n",
       "      <td>...</td>\n",
       "      <td>...</td>\n",
       "      <td>...</td>\n",
       "    </tr>\n",
       "    <tr>\n",
       "      <th>452161</th>\n",
       "      <td>630819</td>\n",
       "      <td>-33.410845</td>\n",
       "      <td>-70.587625</td>\n",
       "      <td>-33.403157</td>\n",
       "      <td>-70.794847</td>\n",
       "      <td>23</td>\n",
       "      <td>domingo</td>\n",
       "      <td>31-07-16 23:18</td>\n",
       "      <td>31-07-16 23:44</td>\n",
       "      <td>19.275570</td>\n",
       "    </tr>\n",
       "    <tr>\n",
       "      <th>452162</th>\n",
       "      <td>630820</td>\n",
       "      <td>-33.378059</td>\n",
       "      <td>-70.659924</td>\n",
       "      <td>-33.410613</td>\n",
       "      <td>-70.794746</td>\n",
       "      <td>22</td>\n",
       "      <td>domingo</td>\n",
       "      <td>31-07-16 22:43</td>\n",
       "      <td>31-07-16 23:06</td>\n",
       "      <td>13.044041</td>\n",
       "    </tr>\n",
       "    <tr>\n",
       "      <th>452163</th>\n",
       "      <td>630821</td>\n",
       "      <td>-33.579867</td>\n",
       "      <td>-70.705105</td>\n",
       "      <td>-33.402888</td>\n",
       "      <td>-70.794640</td>\n",
       "      <td>23</td>\n",
       "      <td>domingo</td>\n",
       "      <td>31-07-16 23:02</td>\n",
       "      <td>31-07-16 23:33</td>\n",
       "      <td>21.382867</td>\n",
       "    </tr>\n",
       "    <tr>\n",
       "      <th>452164</th>\n",
       "      <td>630822</td>\n",
       "      <td>-33.396931</td>\n",
       "      <td>-70.792297</td>\n",
       "      <td>-33.433149</td>\n",
       "      <td>-70.624117</td>\n",
       "      <td>22</td>\n",
       "      <td>domingo</td>\n",
       "      <td>31-07-16 22:31</td>\n",
       "      <td>31-07-16 23:02</td>\n",
       "      <td>16.138766</td>\n",
       "    </tr>\n",
       "    <tr>\n",
       "      <th>452165</th>\n",
       "      <td>630823</td>\n",
       "      <td>-33.606829</td>\n",
       "      <td>-70.603256</td>\n",
       "      <td>-33.397253</td>\n",
       "      <td>-70.794207</td>\n",
       "      <td>22</td>\n",
       "      <td>domingo</td>\n",
       "      <td>31-07-16 22:52</td>\n",
       "      <td>31-07-16 23:22</td>\n",
       "      <td>29.299502</td>\n",
       "    </tr>\n",
       "  </tbody>\n",
       "</table>\n",
       "<p>452166 rows × 10 columns</p>\n",
       "</div>"
      ],
      "text/plain": [
       "        Unnamed: 0  LatitudPAB  LongitudPAB  LatitudCOM  LongitudCOM  Horas  \\\n",
       "0                1  -33.484436   -70.734913  -33.437822   -70.647421      1   \n",
       "1                3  -33.523092   -70.782872  -33.437234   -70.647150      0   \n",
       "2                4  -33.455709   -70.631109  -33.437341   -70.647136      0   \n",
       "3                5  -33.294220   -70.883511  -33.437682   -70.647190      0   \n",
       "4                6  -33.437601   -70.647152  -33.294479   -70.883178     10   \n",
       "...            ...         ...          ...         ...          ...    ...   \n",
       "452161      630819  -33.410845   -70.587625  -33.403157   -70.794847     23   \n",
       "452162      630820  -33.378059   -70.659924  -33.410613   -70.794746     22   \n",
       "452163      630821  -33.579867   -70.705105  -33.402888   -70.794640     23   \n",
       "452164      630822  -33.396931   -70.792297  -33.433149   -70.624117     22   \n",
       "452165      630823  -33.606829   -70.603256  -33.397253   -70.794207     22   \n",
       "\n",
       "            DoW     Hora_Inicio        Hora_Fin  distKilometros  \n",
       "0       sÃ¡bado  01-03-14 01:28  01-03-14 01:59        9.640889  \n",
       "1       sÃ¡bado  01-03-14 00:04  01-03-14 00:44       15.816194  \n",
       "2       sÃ¡bado  01-03-14 00:33  01-03-14 00:42        2.529204  \n",
       "3       sÃ¡bado  01-03-14 00:20  01-03-14 00:56       27.161926  \n",
       "4       sÃ¡bado  01-03-14 10:16  01-03-14 10:53       27.117458  \n",
       "...         ...             ...             ...             ...  \n",
       "452161  domingo  31-07-16 23:18  31-07-16 23:44       19.275570  \n",
       "452162  domingo  31-07-16 22:43  31-07-16 23:06       13.044041  \n",
       "452163  domingo  31-07-16 23:02  31-07-16 23:33       21.382867  \n",
       "452164  domingo  31-07-16 22:31  31-07-16 23:02       16.138766  \n",
       "452165  domingo  31-07-16 22:52  31-07-16 23:22       29.299502  \n",
       "\n",
       "[452166 rows x 10 columns]"
      ]
     },
     "execution_count": 2,
     "metadata": {},
     "output_type": "execute_result"
    }
   ],
   "source": [
    "# Importando la data\n",
    "df = pd.read_csv('dataTaxi.csv')\n",
    "df"
   ]
  },
  {
   "cell_type": "markdown",
   "id": "83ee2026",
   "metadata": {},
   "source": [
    "# Problema 1\n",
    "## Limpieza de Datos"
   ]
  },
  {
   "cell_type": "code",
   "execution_count": 3,
   "id": "7766124e",
   "metadata": {},
   "outputs": [
    {
     "name": "stdout",
     "output_type": "stream",
     "text": [
      "Tipos de datos:\n"
     ]
    },
    {
     "data": {
      "text/plain": [
       "Unnamed: 0          int64\n",
       "LatitudPAB        float64\n",
       "LongitudPAB       float64\n",
       "LatitudCOM        float64\n",
       "LongitudCOM       float64\n",
       "Horas               int64\n",
       "DoW                object\n",
       "Hora_Inicio        object\n",
       "Hora_Fin           object\n",
       "distKilometros    float64\n",
       "dtype: object"
      ]
     },
     "metadata": {},
     "output_type": "display_data"
    },
    {
     "name": "stdout",
     "output_type": "stream",
     "text": [
      "Descripción de los datos:\n"
     ]
    },
    {
     "data": {
      "text/html": [
       "<div>\n",
       "<style scoped>\n",
       "    .dataframe tbody tr th:only-of-type {\n",
       "        vertical-align: middle;\n",
       "    }\n",
       "\n",
       "    .dataframe tbody tr th {\n",
       "        vertical-align: top;\n",
       "    }\n",
       "\n",
       "    .dataframe thead th {\n",
       "        text-align: right;\n",
       "    }\n",
       "</style>\n",
       "<table border=\"1\" class=\"dataframe\">\n",
       "  <thead>\n",
       "    <tr style=\"text-align: right;\">\n",
       "      <th></th>\n",
       "      <th>Unnamed: 0</th>\n",
       "      <th>LatitudPAB</th>\n",
       "      <th>LongitudPAB</th>\n",
       "      <th>LatitudCOM</th>\n",
       "      <th>LongitudCOM</th>\n",
       "      <th>Horas</th>\n",
       "      <th>distKilometros</th>\n",
       "    </tr>\n",
       "  </thead>\n",
       "  <tbody>\n",
       "    <tr>\n",
       "      <th>count</th>\n",
       "      <td>452166.000000</td>\n",
       "      <td>452166.000000</td>\n",
       "      <td>452166.000000</td>\n",
       "      <td>452166.000000</td>\n",
       "      <td>452166.000000</td>\n",
       "      <td>452166.000000</td>\n",
       "      <td>452166.000000</td>\n",
       "    </tr>\n",
       "    <tr>\n",
       "      <th>mean</th>\n",
       "      <td>315556.037500</td>\n",
       "      <td>-33.436718</td>\n",
       "      <td>-70.655944</td>\n",
       "      <td>-33.442694</td>\n",
       "      <td>-70.660850</td>\n",
       "      <td>11.793052</td>\n",
       "      <td>10.598621</td>\n",
       "    </tr>\n",
       "    <tr>\n",
       "      <th>std</th>\n",
       "      <td>181053.682589</td>\n",
       "      <td>0.055233</td>\n",
       "      <td>0.074918</td>\n",
       "      <td>0.060474</td>\n",
       "      <td>0.077424</td>\n",
       "      <td>6.895245</td>\n",
       "      <td>7.393171</td>\n",
       "    </tr>\n",
       "    <tr>\n",
       "      <th>min</th>\n",
       "      <td>1.000000</td>\n",
       "      <td>-33.868754</td>\n",
       "      <td>-70.979306</td>\n",
       "      <td>-33.869713</td>\n",
       "      <td>-70.979998</td>\n",
       "      <td>0.000000</td>\n",
       "      <td>0.030007</td>\n",
       "    </tr>\n",
       "    <tr>\n",
       "      <th>25%</th>\n",
       "      <td>160921.250000</td>\n",
       "      <td>-33.453083</td>\n",
       "      <td>-70.699870</td>\n",
       "      <td>-33.458440</td>\n",
       "      <td>-70.712886</td>\n",
       "      <td>7.000000</td>\n",
       "      <td>4.548679</td>\n",
       "    </tr>\n",
       "    <tr>\n",
       "      <th>50%</th>\n",
       "      <td>317026.000000</td>\n",
       "      <td>-33.433158</td>\n",
       "      <td>-70.646739</td>\n",
       "      <td>-33.436642</td>\n",
       "      <td>-70.650034</td>\n",
       "      <td>12.000000</td>\n",
       "      <td>9.529020</td>\n",
       "    </tr>\n",
       "    <tr>\n",
       "      <th>75%</th>\n",
       "      <td>470740.750000</td>\n",
       "      <td>-33.403836</td>\n",
       "      <td>-70.601023</td>\n",
       "      <td>-33.405790</td>\n",
       "      <td>-70.601565</td>\n",
       "      <td>18.000000</td>\n",
       "      <td>16.008261</td>\n",
       "    </tr>\n",
       "    <tr>\n",
       "      <th>max</th>\n",
       "      <td>630823.000000</td>\n",
       "      <td>-33.150050</td>\n",
       "      <td>-70.403065</td>\n",
       "      <td>-33.150720</td>\n",
       "      <td>-70.407848</td>\n",
       "      <td>23.000000</td>\n",
       "      <td>65.847860</td>\n",
       "    </tr>\n",
       "  </tbody>\n",
       "</table>\n",
       "</div>"
      ],
      "text/plain": [
       "          Unnamed: 0     LatitudPAB    LongitudPAB     LatitudCOM  \\\n",
       "count  452166.000000  452166.000000  452166.000000  452166.000000   \n",
       "mean   315556.037500     -33.436718     -70.655944     -33.442694   \n",
       "std    181053.682589       0.055233       0.074918       0.060474   \n",
       "min         1.000000     -33.868754     -70.979306     -33.869713   \n",
       "25%    160921.250000     -33.453083     -70.699870     -33.458440   \n",
       "50%    317026.000000     -33.433158     -70.646739     -33.436642   \n",
       "75%    470740.750000     -33.403836     -70.601023     -33.405790   \n",
       "max    630823.000000     -33.150050     -70.403065     -33.150720   \n",
       "\n",
       "         LongitudCOM          Horas  distKilometros  \n",
       "count  452166.000000  452166.000000   452166.000000  \n",
       "mean      -70.660850      11.793052       10.598621  \n",
       "std         0.077424       6.895245        7.393171  \n",
       "min       -70.979998       0.000000        0.030007  \n",
       "25%       -70.712886       7.000000        4.548679  \n",
       "50%       -70.650034      12.000000        9.529020  \n",
       "75%       -70.601565      18.000000       16.008261  \n",
       "max       -70.407848      23.000000       65.847860  "
      ]
     },
     "metadata": {},
     "output_type": "display_data"
    }
   ],
   "source": [
    "print('Tipos de datos:')\n",
    "display(df.dtypes)\n",
    "print('Descripción de los datos:')\n",
    "display(df.describe())"
   ]
  },
  {
   "cell_type": "markdown",
   "id": "5add2a2e",
   "metadata": {},
   "source": [
    "### Resumen:\n",
    "* 7 variables numéricas\n",
    "* 3 variables categóricas"
   ]
  },
  {
   "cell_type": "code",
   "execution_count": 4,
   "id": "c28599ad",
   "metadata": {},
   "outputs": [
    {
     "data": {
      "text/plain": [
       "True"
      ]
     },
     "execution_count": 4,
     "metadata": {},
     "output_type": "execute_result"
    }
   ],
   "source": [
    "(len(df['Unnamed: 0'].unique()) == len(df)) # Verificando que no hayan valores repetidos"
   ]
  },
  {
   "cell_type": "markdown",
   "id": "6a8485af",
   "metadata": {},
   "source": [
    "#### La variable 'Unnamed: 0' no aporta información, ya que es un tipo de ID, porque cada punto del data frame tiene un valor distinto. Por lo que será eliminada."
   ]
  },
  {
   "cell_type": "code",
   "execution_count": 5,
   "id": "ee68b5f4",
   "metadata": {},
   "outputs": [
    {
     "name": "stdout",
     "output_type": "stream",
     "text": [
      "Unnamed: 0        0\n",
      "LatitudPAB        0\n",
      "LongitudPAB       0\n",
      "LatitudCOM        0\n",
      "LongitudCOM       0\n",
      "Horas             0\n",
      "DoW               0\n",
      "Hora_Inicio       0\n",
      "Hora_Fin          0\n",
      "distKilometros    0\n",
      "dtype: int64\n"
     ]
    }
   ],
   "source": [
    "# Revisar la existencia de nulos\n",
    "print(df.isnull().sum())"
   ]
  },
  {
   "cell_type": "markdown",
   "id": "34bc9f4f",
   "metadata": {},
   "source": [
    "#### No existen datos nulos, por lo que, hasta el moemnto, no es necesario descartar ninguna variable (columna) ni dato (fila)."
   ]
  },
  {
   "cell_type": "markdown",
   "id": "a0129020",
   "metadata": {},
   "source": [
    "### Debido a que el objetivo es encontrar un patrón común entre los viajes, se asume que se busca entender los movimientos geográficos-espaciales, es por esto, que las variables temporales (Horas, DoW, Hora_Inicio, Hora_Fin) no se consideran significativas. Además, también se descarta distKilometros para no agregar una dimensión más que puede producir overfitting, ya que no se relaciona directamente con el espacio.\n",
    "### Entonces, para mantener un set de datos fácil de graficar e interpretar, que sirve para lograr el objetivo de encontrar patrones en el espacio, en este caso, Santiago, se usarán las siguientes variables: \n",
    "* LatitudPAB\n",
    "* LongitudPAB\n",
    "* LatitudCOM\n",
    "* LongitudCOM\n",
    "\n",
    "#### Ya que representan el origen y destino de los viajes."
   ]
  },
  {
   "cell_type": "code",
   "execution_count": 6,
   "id": "c82aa1ac",
   "metadata": {},
   "outputs": [
    {
     "data": {
      "text/html": [
       "<div>\n",
       "<style scoped>\n",
       "    .dataframe tbody tr th:only-of-type {\n",
       "        vertical-align: middle;\n",
       "    }\n",
       "\n",
       "    .dataframe tbody tr th {\n",
       "        vertical-align: top;\n",
       "    }\n",
       "\n",
       "    .dataframe thead th {\n",
       "        text-align: right;\n",
       "    }\n",
       "</style>\n",
       "<table border=\"1\" class=\"dataframe\">\n",
       "  <thead>\n",
       "    <tr style=\"text-align: right;\">\n",
       "      <th></th>\n",
       "      <th>LatitudPAB</th>\n",
       "      <th>LongitudPAB</th>\n",
       "      <th>LatitudCOM</th>\n",
       "      <th>LongitudCOM</th>\n",
       "    </tr>\n",
       "  </thead>\n",
       "  <tbody>\n",
       "    <tr>\n",
       "      <th>0</th>\n",
       "      <td>-33.484436</td>\n",
       "      <td>-70.734913</td>\n",
       "      <td>-33.437822</td>\n",
       "      <td>-70.647421</td>\n",
       "    </tr>\n",
       "    <tr>\n",
       "      <th>1</th>\n",
       "      <td>-33.523092</td>\n",
       "      <td>-70.782872</td>\n",
       "      <td>-33.437234</td>\n",
       "      <td>-70.647150</td>\n",
       "    </tr>\n",
       "    <tr>\n",
       "      <th>2</th>\n",
       "      <td>-33.455709</td>\n",
       "      <td>-70.631109</td>\n",
       "      <td>-33.437341</td>\n",
       "      <td>-70.647136</td>\n",
       "    </tr>\n",
       "    <tr>\n",
       "      <th>3</th>\n",
       "      <td>-33.294220</td>\n",
       "      <td>-70.883511</td>\n",
       "      <td>-33.437682</td>\n",
       "      <td>-70.647190</td>\n",
       "    </tr>\n",
       "    <tr>\n",
       "      <th>4</th>\n",
       "      <td>-33.437601</td>\n",
       "      <td>-70.647152</td>\n",
       "      <td>-33.294479</td>\n",
       "      <td>-70.883178</td>\n",
       "    </tr>\n",
       "    <tr>\n",
       "      <th>...</th>\n",
       "      <td>...</td>\n",
       "      <td>...</td>\n",
       "      <td>...</td>\n",
       "      <td>...</td>\n",
       "    </tr>\n",
       "    <tr>\n",
       "      <th>452161</th>\n",
       "      <td>-33.410845</td>\n",
       "      <td>-70.587625</td>\n",
       "      <td>-33.403157</td>\n",
       "      <td>-70.794847</td>\n",
       "    </tr>\n",
       "    <tr>\n",
       "      <th>452162</th>\n",
       "      <td>-33.378059</td>\n",
       "      <td>-70.659924</td>\n",
       "      <td>-33.410613</td>\n",
       "      <td>-70.794746</td>\n",
       "    </tr>\n",
       "    <tr>\n",
       "      <th>452163</th>\n",
       "      <td>-33.579867</td>\n",
       "      <td>-70.705105</td>\n",
       "      <td>-33.402888</td>\n",
       "      <td>-70.794640</td>\n",
       "    </tr>\n",
       "    <tr>\n",
       "      <th>452164</th>\n",
       "      <td>-33.396931</td>\n",
       "      <td>-70.792297</td>\n",
       "      <td>-33.433149</td>\n",
       "      <td>-70.624117</td>\n",
       "    </tr>\n",
       "    <tr>\n",
       "      <th>452165</th>\n",
       "      <td>-33.606829</td>\n",
       "      <td>-70.603256</td>\n",
       "      <td>-33.397253</td>\n",
       "      <td>-70.794207</td>\n",
       "    </tr>\n",
       "  </tbody>\n",
       "</table>\n",
       "<p>452166 rows × 4 columns</p>\n",
       "</div>"
      ],
      "text/plain": [
       "        LatitudPAB  LongitudPAB  LatitudCOM  LongitudCOM\n",
       "0       -33.484436   -70.734913  -33.437822   -70.647421\n",
       "1       -33.523092   -70.782872  -33.437234   -70.647150\n",
       "2       -33.455709   -70.631109  -33.437341   -70.647136\n",
       "3       -33.294220   -70.883511  -33.437682   -70.647190\n",
       "4       -33.437601   -70.647152  -33.294479   -70.883178\n",
       "...            ...          ...         ...          ...\n",
       "452161  -33.410845   -70.587625  -33.403157   -70.794847\n",
       "452162  -33.378059   -70.659924  -33.410613   -70.794746\n",
       "452163  -33.579867   -70.705105  -33.402888   -70.794640\n",
       "452164  -33.396931   -70.792297  -33.433149   -70.624117\n",
       "452165  -33.606829   -70.603256  -33.397253   -70.794207\n",
       "\n",
       "[452166 rows x 4 columns]"
      ]
     },
     "execution_count": 6,
     "metadata": {},
     "output_type": "execute_result"
    }
   ],
   "source": [
    "data_train = df[['LatitudPAB', 'LongitudPAB','LatitudCOM','LongitudCOM']]\n",
    "data_train"
   ]
  },
  {
   "cell_type": "markdown",
   "id": "8ef2eaf1",
   "metadata": {},
   "source": [
    "# Problema 2\n",
    "## K-Means"
   ]
  },
  {
   "cell_type": "code",
   "execution_count": 6,
   "id": "7f9366cf",
   "metadata": {},
   "outputs": [
    {
     "name": "stdout",
     "output_type": "stream",
     "text": [
      "1\n",
      "2\n",
      "3\n",
      "4\n",
      "5\n",
      "6\n",
      "7\n",
      "8\n",
      "9\n",
      "10\n",
      "11\n",
      "12\n",
      "13\n",
      "14\n",
      "15\n",
      "16\n",
      "17\n",
      "18\n",
      "19\n",
      "20\n",
      "21\n",
      "22\n",
      "23\n",
      "24\n",
      "25\n",
      "26\n",
      "27\n",
      "28\n",
      "29\n",
      "30\n",
      "31\n",
      "32\n",
      "33\n",
      "34\n",
      "[8281.395157885048, 6303.875699278862, 4858.028615952798, 4185.605647715302, 3738.2403947799344, 3373.9168660448377, 3070.305525583385, 2821.5414917344765, 2623.271553916871, 2490.567027672218, 2368.1272437043867, 2267.584896836547, 2175.8284232156157, 2092.8895753905163, 2015.3021405816894, 1941.8198130555354, 1870.9526671712779, 1806.564595142444, 1748.5583672351058, 1691.6681722298677, 1637.6840913141377, 1592.1177242235426, 1546.0203546873902, 1499.829186123791, 1462.2707348666806, 1424.786600996018, 1386.4254265694485, 1355.0098550053779, 1328.1218311005316, 1303.136726013294, 1276.192607057599, 1255.3649678435943, 1230.6194895698857, 1210.3925301680401]\n"
     ]
    },
    {
     "data": {
      "image/png": "[encoded data removed]",
      "text/plain": [
       "<Figure size 640x480 with 1 Axes>"
      ]
     },
     "metadata": {},
     "output_type": "display_data"
    },
    {
     "data": {
      "text/plain": [
       "<ggplot: (8769280501318)>"
      ]
     },
     "execution_count": 6,
     "metadata": {},
     "output_type": "execute_result"
    }
   ],
   "source": [
    "# ¿Cuántos clusters usar?\n",
    "sse = []\n",
    "numK = 35\n",
    "for k in range(1, numK): # Probamos con 1 a 35 clusters\n",
    "    kmeans = KMeans(n_clusters=k,n_init=100) # n_init: número de veces que se ejecuta el algoritmo con diferentes centroides\n",
    "    kmeans.fit(data)\n",
    "    print(k)\n",
    "    sse.append(kmeans.inertia_)\n",
    "\n",
    "print(sse)\n",
    "tempDataFrame=pd.DataFrame(range(1, numK),columns=[\"numK\"]) # Creamos un dataframe con el número de clusters\n",
    "tempDataFrame[\"sse\"]=sse \n",
    "(ggplot(tempDataFrame)+aes(x=\"numK\",y=\"sse\")+theme_bw()+geom_line()+labs(x=\"Número de clusters\",y=\"WCD\")\n",
    "  +scale_x_continuous(breaks=range(1,numK)))"
   ]
  },
  {
   "cell_type": "markdown",
   "id": "ae411553",
   "metadata": {},
   "source": [
    "#### Considerando el gráfico anterior, la dimensión de los datos y el objetivo, se decide utilizar 9 cluster, justo donde la línea presenta un pequeño codo."
   ]
  },
  {
   "cell_type": "code",
   "execution_count": 7,
   "id": "09f5d5c4",
   "metadata": {},
   "outputs": [
    {
     "name": "stdout",
     "output_type": "stream",
     "text": [
      "KMeans(n_clusters=9)\n",
      "KMeans(n_clusters=9)\n"
     ]
    }
   ],
   "source": [
    "# Creando el modelo\n",
    "km = KMeans(n_clusters = 9)  \n",
    "print(km)\n",
    "\n",
    "# Entrenando el modelo\n",
    "km=km.fit(data_train)\n",
    "print(km)"
   ]
  },
  {
   "cell_type": "code",
   "execution_count": 9,
   "id": "c6cbe6a4",
   "metadata": {},
   "outputs": [
    {
     "name": "stdout",
     "output_type": "stream",
     "text": [
      "Centroides\n"
     ]
    },
    {
     "data": {
      "text/latex": [
       "$\\displaystyle \\left[\\begin{matrix}Cluster & LatitudPAB & LongitudPAB & LatitudCOM & LongitudCOM\\\\0 & -33.41651557484826 & -70.59374653226728 & -33.415892874116125 & -70.58916657000353\\\\1 & -33.43654211296697 & -70.64295679299207 & -33.43967477475111 & -70.65014278197724\\\\2 & -33.39659949604142 & -70.7764468588673 & -33.43554288220501 & -70.60606943411238\\\\3 & -33.437978227859 & -70.65672412861868 & -33.551237852328136 & -70.7517979954794\\\\4 & -33.43305115415857 & -70.60736404651232 & -33.40056176748072 & -70.77581376943853\\\\5 & -33.389409956729615 & -70.7505968102108 & -33.395532368622824 & -70.74951295860487\\\\6 & -33.53638306650189 & -70.7468735502332 & -33.46401187408013 & -70.69028245174407\\\\7 & -33.54410948398702 & -70.60258631824081 & -33.458498645020185 & -70.63670563630029\\\\8 & -33.44132511281936 & -70.63471601730404 & -33.55293637241857 & -70.59611244189246\\end{matrix}\\right]$"
      ],
      "text/plain": [
       "Matrix([\n",
       "[Cluster,          LatitudPAB,        LongitudPAB,          LatitudCOM,        LongitudCOM],\n",
       "[      0,  -33.41651557484826, -70.59374653226728, -33.415892874116125, -70.58916657000353],\n",
       "[      1,  -33.43654211296697, -70.64295679299207,  -33.43967477475111, -70.65014278197724],\n",
       "[      2,  -33.39659949604142,  -70.7764468588673,  -33.43554288220501, -70.60606943411238],\n",
       "[      3,    -33.437978227859, -70.65672412861868, -33.551237852328136,  -70.7517979954794],\n",
       "[      4,  -33.43305115415857, -70.60736404651232,  -33.40056176748072, -70.77581376943853],\n",
       "[      5, -33.389409956729615,  -70.7505968102108, -33.395532368622824, -70.74951295860487],\n",
       "[      6,  -33.53638306650189,  -70.7468735502332,  -33.46401187408013, -70.69028245174407],\n",
       "[      7,  -33.54410948398702, -70.60258631824081, -33.458498645020185, -70.63670563630029],\n",
       "[      8,  -33.44132511281936, -70.63471601730404,  -33.55293637241857, -70.59611244189246]])"
      ]
     },
     "execution_count": 9,
     "metadata": {},
     "output_type": "execute_result"
    }
   ],
   "source": [
    "nombres = np.array([['LatitudPAB', 'LongitudPAB',\n",
    "                     'LatitudCOM','LongitudCOM']]) # Nombre de las columnas\n",
    "\n",
    "clusters = np.array([['Cluster'], [0], [1], [2], [3], [4], [5], [6], [7], [8]]) # Nombre de los clusters\n",
    "\n",
    "A = np.concatenate((nombres, km.cluster_centers_), axis=0) # Concatenando los nombres de las columnas con los centroides\n",
    "B = np.concatenate((clusters, A), axis=1) # Concatenando los nombres de los clusters con los centroides\n",
    "\n",
    "print('Centroides')\n",
    "Matrix(B)   "
   ]
  },
  {
   "cell_type": "markdown",
   "id": "ff45f52d",
   "metadata": {},
   "source": [
    "### Cada centroide tiene 4 dos latitudes y dos longitudes que resumen el inicio y destino de los viajes contenidos en el cluster."
   ]
  },
  {
   "cell_type": "code",
   "execution_count": 10,
   "id": "86a07879",
   "metadata": {},
   "outputs": [
    {
     "data": {
      "text/plain": [
       "array([[-70.59374653, -70.58916657, -33.41651557, -33.41589287],\n",
       "       [-70.64295679, -70.65014278, -33.43654211, -33.43967477],\n",
       "       [-70.77644686, -70.60606943, -33.3965995 , -33.43554288],\n",
       "       [-70.65672413, -70.751798  , -33.43797823, -33.55123785],\n",
       "       [-70.60736405, -70.77581377, -33.43305115, -33.40056177],\n",
       "       [-70.75059681, -70.74951296, -33.38940996, -33.39553237],\n",
       "       [-70.74687355, -70.69028245, -33.53638307, -33.46401187],\n",
       "       [-70.60258632, -70.63670564, -33.54410948, -33.45849865],\n",
       "       [-70.63471602, -70.59611244, -33.44132511, -33.55293637]])"
      ]
     },
     "metadata": {},
     "output_type": "display_data"
    },
    {
     "data": {
      "text/html": [
       "<div>\n",
       "<style scoped>\n",
       "    .dataframe tbody tr th:only-of-type {\n",
       "        vertical-align: middle;\n",
       "    }\n",
       "\n",
       "    .dataframe tbody tr th {\n",
       "        vertical-align: top;\n",
       "    }\n",
       "\n",
       "    .dataframe thead th {\n",
       "        text-align: right;\n",
       "    }\n",
       "</style>\n",
       "<table border=\"1\" class=\"dataframe\">\n",
       "  <thead>\n",
       "    <tr style=\"text-align: right;\">\n",
       "      <th></th>\n",
       "      <th>X0</th>\n",
       "      <th>Y0</th>\n",
       "      <th>X1</th>\n",
       "      <th>Y1</th>\n",
       "      <th>X2</th>\n",
       "      <th>Y2</th>\n",
       "      <th>X3</th>\n",
       "      <th>Y3</th>\n",
       "      <th>X4</th>\n",
       "      <th>Y4</th>\n",
       "      <th>X5</th>\n",
       "      <th>Y5</th>\n",
       "      <th>X6</th>\n",
       "      <th>Y6</th>\n",
       "      <th>X7</th>\n",
       "      <th>Y7</th>\n",
       "      <th>X8</th>\n",
       "      <th>Y8</th>\n",
       "    </tr>\n",
       "  </thead>\n",
       "  <tbody>\n",
       "    <tr>\n",
       "      <th>0</th>\n",
       "      <td>-70.593747</td>\n",
       "      <td>-33.416516</td>\n",
       "      <td>-70.642957</td>\n",
       "      <td>-33.436542</td>\n",
       "      <td>-70.776447</td>\n",
       "      <td>-33.396599</td>\n",
       "      <td>-70.656724</td>\n",
       "      <td>-33.437978</td>\n",
       "      <td>-70.607364</td>\n",
       "      <td>-33.433051</td>\n",
       "      <td>-70.750597</td>\n",
       "      <td>-33.389410</td>\n",
       "      <td>-70.746874</td>\n",
       "      <td>-33.536383</td>\n",
       "      <td>-70.602586</td>\n",
       "      <td>-33.544109</td>\n",
       "      <td>-70.634716</td>\n",
       "      <td>-33.441325</td>\n",
       "    </tr>\n",
       "    <tr>\n",
       "      <th>1</th>\n",
       "      <td>-70.589167</td>\n",
       "      <td>-33.415893</td>\n",
       "      <td>-70.650143</td>\n",
       "      <td>-33.439675</td>\n",
       "      <td>-70.606069</td>\n",
       "      <td>-33.435543</td>\n",
       "      <td>-70.751798</td>\n",
       "      <td>-33.551238</td>\n",
       "      <td>-70.775814</td>\n",
       "      <td>-33.400562</td>\n",
       "      <td>-70.749513</td>\n",
       "      <td>-33.395532</td>\n",
       "      <td>-70.690282</td>\n",
       "      <td>-33.464012</td>\n",
       "      <td>-70.636706</td>\n",
       "      <td>-33.458499</td>\n",
       "      <td>-70.596112</td>\n",
       "      <td>-33.552936</td>\n",
       "    </tr>\n",
       "  </tbody>\n",
       "</table>\n",
       "</div>"
      ],
      "text/plain": [
       "          X0         Y0         X1         Y1         X2         Y2  \\\n",
       "0 -70.593747 -33.416516 -70.642957 -33.436542 -70.776447 -33.396599   \n",
       "1 -70.589167 -33.415893 -70.650143 -33.439675 -70.606069 -33.435543   \n",
       "\n",
       "          X3         Y3         X4         Y4         X5         Y5  \\\n",
       "0 -70.656724 -33.437978 -70.607364 -33.433051 -70.750597 -33.389410   \n",
       "1 -70.751798 -33.551238 -70.775814 -33.400562 -70.749513 -33.395532   \n",
       "\n",
       "          X6         Y6         X7         Y7         X8         Y8  \n",
       "0 -70.746874 -33.536383 -70.602586 -33.544109 -70.634716 -33.441325  \n",
       "1 -70.690282 -33.464012 -70.636706 -33.458499 -70.596112 -33.552936  "
      ]
     },
     "metadata": {},
     "output_type": "display_data"
    }
   ],
   "source": [
    "# Para facilitar la elaboración del gráfico se crea un data frame con los centroides\n",
    "puntos = pd.DataFrame(km.cluster_centers_, columns = ['LatitudPAB', 'LongitudPAB','LatitudCOM','LongitudCOM'])\n",
    "puntos = puntos[['LongitudPAB', 'LongitudCOM', 'LatitudPAB', 'LatitudCOM']] # Se cambia el orden de las columnas.\n",
    "puntoss = np.array(puntos) # Y se transforma a array\n",
    "display(puntoss)\n",
    "\n",
    "# Se crea un data frame con los datos de los puntos y el cluster al que pertenecen\n",
    "graficar = pd.DataFrame({\n",
    "    'X0': puntoss[0][0:2],\n",
    "    'Y0': puntoss[0][2:],\n",
    "    'X1': puntoss[1][0:2],\n",
    "    'Y1': puntoss[1][2:],\n",
    "    'X2': puntoss[2][0:2],\n",
    "    'Y2': puntoss[2][2:],\n",
    "    'X3': puntoss[3][0:2],\n",
    "    'Y3': puntoss[3][2:],\n",
    "    'X4': puntoss[4][0:2],\n",
    "    'Y4': puntoss[4][2:],\n",
    "    'X5': puntoss[5][0:2],\n",
    "    'Y5': puntoss[5][2:],\n",
    "    'X6': puntoss[6][0:2],\n",
    "    'Y6': puntoss[6][2:],\n",
    "    'X7': puntoss[7][0:2],\n",
    "    'Y7': puntoss[7][2:],\n",
    "    'X8': puntoss[8][0:2],\n",
    "    'Y8': puntoss[8][2:]})\n",
    "\n",
    "display(graficar)"
   ]
  },
  {
   "cell_type": "markdown",
   "id": "2455f13a",
   "metadata": {},
   "source": [
    "### La fila 0 tiene los pares (X = Longitud de inicio, Y = Latitud de inicio) del centroide por cada cluster\n",
    "### La fila 1 lo mismo pero con el destino."
   ]
  },
  {
   "cell_type": "markdown",
   "id": "96a7a2a6",
   "metadata": {},
   "source": [
    "for i in range(9):\n",
    "    print(f\"'X{i}': puntoss[{i}][0:2],\")\n",
    "    print(f\"'Y{i}': puntoss[{i}][2:],\")\n",
    "    \n",
    "for i in range(9):\n",
    "    print(f\"+ geom_line(aes(x= 'X{i}', y='Y{i}'), color='{colores[i]}', size=2)\")"
   ]
  },
  {
   "cell_type": "code",
   "execution_count": 48,
   "id": "22317ece",
   "metadata": {
    "scrolled": false
   },
   "outputs": [
    {
     "data": {
      "image/png": "[encoded data removed]",
      "text/plain": [
       "<Figure size 640x480 with 1 Axes>"
      ]
     },
     "metadata": {},
     "output_type": "display_data"
    },
    {
     "data": {
      "text/plain": [
       "<ggplot: (8771169016092)>"
      ]
     },
     "execution_count": 48,
     "metadata": {},
     "output_type": "execute_result"
    }
   ],
   "source": [
    "# Gráfico de los clusters\n",
    "(ggplot(graficar)\n",
    "+ geom_line(aes(x= 'X0', y='Y0'), color='pink', size=2) # Se grafican los centroides\n",
    "+ geom_line(aes(x= 'X1', y='Y1'), color='gray', size=2)\n",
    "+ geom_line(aes(x= 'X2', y='Y2'), color='green', size=2)\n",
    "+ geom_line(aes(x= 'X3', y='Y3'), color='purple', size=2)\n",
    "+ geom_line(aes(x= 'X4', y='Y4'), color='blue', size=2)\n",
    "+ geom_line(aes(x= 'X5', y='Y5'), color='red', size=2)\n",
    "+ geom_line(aes(x= 'X6', y='Y6'), color='black', size=2)\n",
    "+ geom_line(aes(x= 'X7', y='Y7'), color='orange', size=2)\n",
    "+ geom_line(aes(x= 'X8', y='Y8'), color='brown', size=2)\n",
    " \n",
    "+ labs(title = 'Clusters de trayectoria', y = 'Latitud', x = 'Longitud') # Se agregan los títulos\n",
    "\n",
    "+ theme(axis_title_y=element_text(size=40,color='black',family='Arial'))  # Se cambia el tamaño de las letras\n",
    "+ theme(axis_title_x=element_text(size=40,color='black',family='Arial'))\n",
    "+ theme_bw() # Se cambia el fondo del gráfico\n",
    "+ geom_point(aes(x= 'X0', y='Y0'), color='pink', size=1)   # Se grafican los puntos\n",
    "+ theme(plot_title=element_text(size=20,face=\"Arial\", hjust = 'center', vjust = 'top', color='black',lineheight=2,va=\"top\",family=\"Arial\")) # Se cambia el tamaño de las letras\n",
    "\n",
    " # Se agregan las etiquetas\n",
    "+ annotate('text',x = -70.70, y = -33.50, label = '0', color = 'purple', size = 15, family = 'arial')\n",
    "+ annotate('text',x = -70.63, y = -33.50, label = '1', color = 'orange', size = 15, family = 'arial')\n",
    "+ annotate('text',x = -70.70, y = -33.43, label = '2', color = 'blue', size = 15, family = 'arial')\n",
    "+ annotate('text',x = -70.70, y = -33.405, label = '3', color = 'green', size = 15, family = 'arial')\n",
    "+ annotate('text',x = -70.605, y = -33.50, label = '4', color = 'brown', size = 15, family = 'arial')\n",
    "+ annotate('text',x = -70.745, y = -33.39, label = '5', color = 'red', size = 15, family = 'arial')\n",
    "+ annotate('text',x = -70.59, y = -33.41, label = '6', color = 'pink', size = 15, family = 'arial')\n",
    "+ annotate('text',x = -70.65, y = -33.45, label = '7', color = 'gray', size = 15, family = 'arial')\n",
    "+ annotate('text',x = -70.73, y = -33.50, label = '8', color = 'black', size = 15, family = 'arial')\n",
    "\n",
    ")"
   ]
  },
  {
   "cell_type": "markdown",
   "id": "6c7aa6e7",
   "metadata": {},
   "source": [
    "# Problema 3\n",
    "\n",
    "### Un cluster es un grupo de datos que se caracterizan por compartir caracteristicas similares. En este caso se está buscando un patrón de viaje, por lo que, aquellos puntos pertenecen al mismo cluster son parecidos en términos de lugar de inicio y destino. \n",
    "\n",
    "### En el gráfico se muestran 9 rectas porque se encontraron 9 patrones de viaje, es decir, cada línea representa un tipo de viaje, por ejemplo, el color naranja etiquetado con el número 1 indica que existe un grupo de datos (viajes) que parten en el centro y terminan en el sureste de Santiago. \n",
    "\n",
    "### Otro ejemplo, es el número 7, este da a entender que hay un alto número de viajes que se da solo en el centro de Santiago.\n",
    "\n",
    "### Cabe mencionar que el tamaño de la recta demuestra la distancia promedio del viaje. El número no indica orden, es solo una numeración para los clusters. Y, por último, por medio del gráfico no se puede identificar cuántos viajes hay por cluster, sólo se sabe que hay una cantidad suficiente para marcar un patrón."
   ]
  },
  {
   "cell_type": "markdown",
   "id": "2a091ab0",
   "metadata": {},
   "source": [
    "# Problema 4) \n",
    "### Para determinar si un cluster está incorreto se decidió usar el within-cluster-distance, ya que el objetivo de K-mean es minimizar esta métrica. Entonces, la regla es la siguiente: el cluster está mal definido si su WCD es mayor al promedio de todos los WCD."
   ]
  },
  {
   "cell_type": "code",
   "execution_count": 57,
   "id": "6c7844b8",
   "metadata": {},
   "outputs": [
    {
     "name": "stdout",
     "output_type": "stream",
     "text": [
      "El promedio es: 3335\n"
     ]
    },
    {
     "name": "stderr",
     "output_type": "stream",
     "text": [
      "<ipython-input-57-0778bb19f3a6>:1: SettingWithCopyWarning: \n",
      "A value is trying to be set on a copy of a slice from a DataFrame.\n",
      "Try using .loc[row_indexer,col_indexer] = value instead\n",
      "\n",
      "See the caveats in the documentation: https://pandas.pydata.org/pandas-docs/stable/user_guide/indexing.html#returning-a-view-versus-a-copy\n"
     ]
    }
   ],
   "source": [
    "data_train['labels'] = km.labels_ # Se agrega una columna con los labels\n",
    "WCD = []\n",
    "# Se calcula la distancia intra-cluster\n",
    "for i in range(0,9):\n",
    "    cluster = data_train[data_train['labels'] == i].copy()\n",
    "    cluster.drop(columns=['labels'], inplace=True)\n",
    "    centroide = km.cluster_centers_[i] # Se obtiene el centroide\n",
    "\n",
    "    distancia_al_centroide = np.linalg.norm(cluster - centroide, axis=1) # Se calcula la distancia al centroide\n",
    "    distancia_intra_cluster = np.sum(distancia_al_centroide) # Se suman las distancias\n",
    "    WCD.append(distancia_intra_cluster) # Se agrega a la lista de distancias\n",
    "    \n",
    "C = Matrix([round(numero) for numero in WCD])\n",
    "\n",
    "promedio = round(sum(WCD) / len(WCD)) # Se calcula el promedio de las distancias\n",
    "print(\"El promedio es:\", promedio)\n",
    "\n"
   ]
  },
  {
   "cell_type": "markdown",
   "id": "5685f9d3",
   "metadata": {},
   "source": [
    "### Revisando qué clusters están mal definidos"
   ]
  },
  {
   "cell_type": "code",
   "execution_count": 55,
   "id": "c71e3439",
   "metadata": {},
   "outputs": [
    {
     "data": {
      "text/latex": [
       "$\\displaystyle \\left[\\begin{matrix}0 & Incorrecto & 4910\\\\1 & Incorrecto & 5338\\\\2 & Incorrecto & 3744\\\\3 & Correcto & 2290\\\\4 & Incorrecto & 4183\\\\5 & Correcto & 2773\\\\6 & Correcto & 2444\\\\7 & Correcto & 2144\\\\8 & Correcto & 2193\\end{matrix}\\right]$"
      ],
      "text/plain": [
       "Matrix([\n",
       "[0, Incorrecto, 4910],\n",
       "[1, Incorrecto, 5338],\n",
       "[2, Incorrecto, 3744],\n",
       "[3,   Correcto, 2290],\n",
       "[4, Incorrecto, 4183],\n",
       "[5,   Correcto, 2773],\n",
       "[6,   Correcto, 2444],\n",
       "[7,   Correcto, 2144],\n",
       "[8,   Correcto, 2193]])"
      ]
     },
     "execution_count": 55,
     "metadata": {},
     "output_type": "execute_result"
    }
   ],
   "source": [
    "# Se crea una lista con los valores de WCD y se compara con el promedio\n",
    "lista = []\n",
    "for i in range(9):\n",
    "    if (WCD[i] >= round(sum(WCD) / len(WCD))):\n",
    "        lista.append([i,'Incorrecto'])\n",
    "    else:\n",
    "        lista.append([i,'Correcto'])\n",
    "\n",
    "D = np.concatenate((lista, C), axis=1)\n",
    "Matrix(D)"
   ]
  },
  {
   "cell_type": "code",
   "execution_count": 60,
   "id": "1158c231",
   "metadata": {
    "scrolled": false
   },
   "outputs": [
    {
     "name": "stdout",
     "output_type": "stream",
     "text": [
      "(85067, 5)\n",
      "KMeans(n_clusters=2)\n",
      "KMeans(n_clusters=2)\n",
      "(107976, 5)\n",
      "KMeans(n_clusters=2)\n",
      "KMeans(n_clusters=2)\n",
      "(56296, 5)\n",
      "KMeans(n_clusters=2)\n",
      "KMeans(n_clusters=2)\n",
      "(63783, 5)\n",
      "KMeans(n_clusters=2)\n",
      "KMeans(n_clusters=2)\n",
      "Centroides nuevos:\n"
     ]
    },
    {
     "data": {
      "text/latex": [
       "$\\displaystyle \\left[\\begin{matrix}LatitudPAB & LongitudPAB & LatitudCOM & LongitudCOM\\\\-33.433050517887075 & -70.62196745864112 & -33.40362264877959 & -70.56506964837739\\\\-33.406253841833475 & -70.57622121991962 & -33.42350589350236 & -70.60411444853894\\\\-33.42503939711808 & -70.60670145398119 & -33.444422552764244 & -70.65902758859734\\\\-33.441522279406726 & -70.65864664462845 & -33.43762377165174 & -70.64627869183357\\\\-33.39992129246454 & -70.77974837367022 & -33.412466277659576 & -70.5794827384719\\\\-33.392697281342876 & -70.7725652732469 & -33.46276670768189 & -70.63734499220975\\\\-33.437978227859 & -70.65672412861868 & -33.551237852328136 & -70.7517979954794\\\\-33.45756677474204 & -70.63827687730979 & -33.395945160367404 & -70.77430222795088\\\\-33.41188697779044 & -70.58063544552361 & -33.40455194877571 & -70.7771106629792\\\\-33.389409956729615 & -70.7505968102108 & -33.395532368622824 & -70.74951295860487\\\\-33.53638306650189 & -70.7468735502332 & -33.46401187408013 & -70.69028245174407\\\\-33.54410948398702 & -70.60258631824081 & -33.458498645020185 & -70.63670563630029\\\\-33.44132511281936 & -70.63471601730404 & -33.55293637241857 & -70.59611244189246\\end{matrix}\\right]$"
      ],
      "text/plain": [
       "Matrix([\n",
       "[         LatitudPAB,        LongitudPAB,          LatitudCOM,        LongitudCOM],\n",
       "[-33.433050517887075, -70.62196745864112,  -33.40362264877959, -70.56506964837739],\n",
       "[-33.406253841833475, -70.57622121991962,  -33.42350589350236, -70.60411444853894],\n",
       "[ -33.42503939711808, -70.60670145398119, -33.444422552764244, -70.65902758859734],\n",
       "[-33.441522279406726, -70.65864664462845,  -33.43762377165174, -70.64627869183357],\n",
       "[ -33.39992129246454, -70.77974837367022, -33.412466277659576,  -70.5794827384719],\n",
       "[-33.392697281342876,  -70.7725652732469,  -33.46276670768189, -70.63734499220975],\n",
       "[   -33.437978227859, -70.65672412861868, -33.551237852328136,  -70.7517979954794],\n",
       "[ -33.45756677474204, -70.63827687730979, -33.395945160367404, -70.77430222795088],\n",
       "[ -33.41188697779044, -70.58063544552361,  -33.40455194877571,  -70.7771106629792],\n",
       "[-33.389409956729615,  -70.7505968102108, -33.395532368622824, -70.74951295860487],\n",
       "[ -33.53638306650189,  -70.7468735502332,  -33.46401187408013, -70.69028245174407],\n",
       "[ -33.54410948398702, -70.60258631824081, -33.458498645020185, -70.63670563630029],\n",
       "[ -33.44132511281936, -70.63471601730404,  -33.55293637241857, -70.59611244189246]])"
      ]
     },
     "execution_count": 60,
     "metadata": {},
     "output_type": "execute_result"
    }
   ],
   "source": [
    "nuevos_C = [] # Lista de centroides\n",
    "count_k = 0 # Cantidad nueva de clusters\n",
    "for j in D:\n",
    "    if 'Incorrecto' in j:\n",
    "        count_k = count_k + 2\n",
    "        df_train = data_train[data_train['labels'] == int(j[0])]\n",
    "        #display(df_train.head(3))\n",
    "        print(df_train.shape)\n",
    "        df_train = df_train[['LatitudPAB', 'LongitudPAB','LatitudCOM','LongitudCOM']]\n",
    "        \n",
    "        # Se separa el cluster mal definido en 2\n",
    "        KM = KMeans(n_clusters = 2)  \n",
    "        KM = KM.fit(df_train)\n",
    "        print(KM)\n",
    "        \n",
    "        # Agregando los nuevos centroides\n",
    "        nuevos_C.append(list(KM.cluster_centers_[0]))\n",
    "        nuevos_C.append(list(KM.cluster_centers_[1]))\n",
    "    \n",
    "    else:\n",
    "        # Si ek cluster está correcto se mantiene su centroide\n",
    "        count_k = count_k + 1\n",
    "        nuevos_C.append(list(km.cluster_centers_[int(j[0])]))\n",
    "    \n",
    "\n",
    "    \n",
    "print('Centroides nuevos:')\n",
    "Matrix(np.concatenate((nombres, nuevos_C), axis=0))"
   ]
  },
  {
   "cell_type": "markdown",
   "id": "4e4a1a39",
   "metadata": {},
   "source": [
    "### Se vuelve a correr k-means con el nuevo número de clusters y centroides."
   ]
  },
  {
   "cell_type": "code",
   "execution_count": 61,
   "id": "72381557",
   "metadata": {},
   "outputs": [
    {
     "name": "stdout",
     "output_type": "stream",
     "text": [
      "KMeans(init=array([[-33.43305052, -70.62196746, -33.40362265, -70.56506965],\n",
      "       [-33.40625384, -70.57622122, -33.42350589, -70.60411445],\n",
      "       [-33.4250394 , -70.60670145, -33.44442255, -70.65902759],\n",
      "       [-33.44152228, -70.65864664, -33.43762377, -70.64627869],\n",
      "       [-33.39992129, -70.77974837, -33.41246628, -70.57948274],\n",
      "       [-33.39269728, -70.77256527, -33.46276671, -70.63734499],\n",
      "       [-33.437...,\n",
      "       [-33.45756677, -70.63827688, -33.39594516, -70.77430223],\n",
      "       [-33.41188698, -70.58063545, -33.40455195, -70.77711066],\n",
      "       [-33.38940996, -70.75059681, -33.39553237, -70.74951296],\n",
      "       [-33.53638307, -70.74687355, -33.46401187, -70.69028245],\n",
      "       [-33.54410948, -70.60258632, -33.45849865, -70.63670564],\n",
      "       [-33.44132511, -70.63471602, -33.55293637, -70.59611244]]),\n",
      "       n_clusters=13, n_init=1)\n"
     ]
    },
    {
     "name": "stderr",
     "output_type": "stream",
     "text": [
      "<ipython-input-61-01ed43806f87>:8: SettingWithCopyWarning: \n",
      "A value is trying to be set on a copy of a slice from a DataFrame.\n",
      "Try using .loc[row_indexer,col_indexer] = value instead\n",
      "\n",
      "See the caveats in the documentation: https://pandas.pydata.org/pandas-docs/stable/user_guide/indexing.html#returning-a-view-versus-a-copy\n"
     ]
    },
    {
     "data": {
      "text/html": [
       "<div>\n",
       "<style scoped>\n",
       "    .dataframe tbody tr th:only-of-type {\n",
       "        vertical-align: middle;\n",
       "    }\n",
       "\n",
       "    .dataframe tbody tr th {\n",
       "        vertical-align: top;\n",
       "    }\n",
       "\n",
       "    .dataframe thead th {\n",
       "        text-align: right;\n",
       "    }\n",
       "</style>\n",
       "<table border=\"1\" class=\"dataframe\">\n",
       "  <thead>\n",
       "    <tr style=\"text-align: right;\">\n",
       "      <th></th>\n",
       "      <th>LatitudPAB</th>\n",
       "      <th>LongitudPAB</th>\n",
       "      <th>LatitudCOM</th>\n",
       "      <th>LongitudCOM</th>\n",
       "      <th>labels</th>\n",
       "    </tr>\n",
       "  </thead>\n",
       "  <tbody>\n",
       "    <tr>\n",
       "      <th>0</th>\n",
       "      <td>-33.484436</td>\n",
       "      <td>-70.734913</td>\n",
       "      <td>-33.437822</td>\n",
       "      <td>-70.647421</td>\n",
       "      <td>10</td>\n",
       "    </tr>\n",
       "    <tr>\n",
       "      <th>1</th>\n",
       "      <td>-33.523092</td>\n",
       "      <td>-70.782872</td>\n",
       "      <td>-33.437234</td>\n",
       "      <td>-70.647150</td>\n",
       "      <td>10</td>\n",
       "    </tr>\n",
       "    <tr>\n",
       "      <th>2</th>\n",
       "      <td>-33.455709</td>\n",
       "      <td>-70.631109</td>\n",
       "      <td>-33.437341</td>\n",
       "      <td>-70.647136</td>\n",
       "      <td>3</td>\n",
       "    </tr>\n",
       "    <tr>\n",
       "      <th>3</th>\n",
       "      <td>-33.294220</td>\n",
       "      <td>-70.883511</td>\n",
       "      <td>-33.437682</td>\n",
       "      <td>-70.647190</td>\n",
       "      <td>5</td>\n",
       "    </tr>\n",
       "    <tr>\n",
       "      <th>4</th>\n",
       "      <td>-33.437601</td>\n",
       "      <td>-70.647152</td>\n",
       "      <td>-33.294479</td>\n",
       "      <td>-70.883178</td>\n",
       "      <td>7</td>\n",
       "    </tr>\n",
       "    <tr>\n",
       "      <th>...</th>\n",
       "      <td>...</td>\n",
       "      <td>...</td>\n",
       "      <td>...</td>\n",
       "      <td>...</td>\n",
       "      <td>...</td>\n",
       "    </tr>\n",
       "    <tr>\n",
       "      <th>452161</th>\n",
       "      <td>-33.410845</td>\n",
       "      <td>-70.587625</td>\n",
       "      <td>-33.403157</td>\n",
       "      <td>-70.794847</td>\n",
       "      <td>8</td>\n",
       "    </tr>\n",
       "    <tr>\n",
       "      <th>452162</th>\n",
       "      <td>-33.378059</td>\n",
       "      <td>-70.659924</td>\n",
       "      <td>-33.410613</td>\n",
       "      <td>-70.794746</td>\n",
       "      <td>8</td>\n",
       "    </tr>\n",
       "    <tr>\n",
       "      <th>452163</th>\n",
       "      <td>-33.579867</td>\n",
       "      <td>-70.705105</td>\n",
       "      <td>-33.402888</td>\n",
       "      <td>-70.794640</td>\n",
       "      <td>7</td>\n",
       "    </tr>\n",
       "    <tr>\n",
       "      <th>452164</th>\n",
       "      <td>-33.396931</td>\n",
       "      <td>-70.792297</td>\n",
       "      <td>-33.433149</td>\n",
       "      <td>-70.624117</td>\n",
       "      <td>4</td>\n",
       "    </tr>\n",
       "    <tr>\n",
       "      <th>452165</th>\n",
       "      <td>-33.606829</td>\n",
       "      <td>-70.603256</td>\n",
       "      <td>-33.397253</td>\n",
       "      <td>-70.794207</td>\n",
       "      <td>7</td>\n",
       "    </tr>\n",
       "  </tbody>\n",
       "</table>\n",
       "<p>452166 rows × 5 columns</p>\n",
       "</div>"
      ],
      "text/plain": [
       "        LatitudPAB  LongitudPAB  LatitudCOM  LongitudCOM  labels\n",
       "0       -33.484436   -70.734913  -33.437822   -70.647421      10\n",
       "1       -33.523092   -70.782872  -33.437234   -70.647150      10\n",
       "2       -33.455709   -70.631109  -33.437341   -70.647136       3\n",
       "3       -33.294220   -70.883511  -33.437682   -70.647190       5\n",
       "4       -33.437601   -70.647152  -33.294479   -70.883178       7\n",
       "...            ...          ...         ...          ...     ...\n",
       "452161  -33.410845   -70.587625  -33.403157   -70.794847       8\n",
       "452162  -33.378059   -70.659924  -33.410613   -70.794746       8\n",
       "452163  -33.579867   -70.705105  -33.402888   -70.794640       7\n",
       "452164  -33.396931   -70.792297  -33.433149   -70.624117       4\n",
       "452165  -33.606829   -70.603256  -33.397253   -70.794207       7\n",
       "\n",
       "[452166 rows x 5 columns]"
      ]
     },
     "execution_count": 61,
     "metadata": {},
     "output_type": "execute_result"
    }
   ],
   "source": [
    "KM_final = KMeans(n_clusters = count_k, init = np.array(nuevos_C), n_init = 1)  # Se crea el modelo con los nuevos centroides\n",
    "\n",
    "df_final = df[['LatitudPAB', 'LongitudPAB','LatitudCOM','LongitudCOM']] # Se crea el data frame final\n",
    "\n",
    "KM_final = KM_final.fit(df_final) # Se entrena el modelo\n",
    "print(KM_final)\n",
    "\n",
    "df_final['labels'] = KM_final.labels_ # Se agregan las etiquetas al data frame final\n",
    "df_final"
   ]
  },
  {
   "cell_type": "code",
   "execution_count": 62,
   "id": "1fd9ef17",
   "metadata": {},
   "outputs": [
    {
     "data": {
      "text/latex": [
       "$\\displaystyle \\left[\\begin{matrix}0 & Correcto & 2102\\\\1 & Correcto & 2297\\\\2 & Correcto & 2193\\\\3 & Correcto & 2881\\\\4 & Correcto & 1611\\\\5 & Correcto & 2077\\\\6 & Correcto & 1981\\\\7 & Correcto & 2140\\\\8 & Correcto & 1761\\\\9 & Correcto & 2062\\\\10 & Correcto & 2058\\\\11 & Correcto & 1841\\\\12 & Correcto & 1917\\end{matrix}\\right]$"
      ],
      "text/plain": [
       "Matrix([\n",
       "[ 0, Correcto, 2102],\n",
       "[ 1, Correcto, 2297],\n",
       "[ 2, Correcto, 2193],\n",
       "[ 3, Correcto, 2881],\n",
       "[ 4, Correcto, 1611],\n",
       "[ 5, Correcto, 2077],\n",
       "[ 6, Correcto, 1981],\n",
       "[ 7, Correcto, 2140],\n",
       "[ 8, Correcto, 1761],\n",
       "[ 9, Correcto, 2062],\n",
       "[10, Correcto, 2058],\n",
       "[11, Correcto, 1841],\n",
       "[12, Correcto, 1917]])"
      ]
     },
     "execution_count": 62,
     "metadata": {},
     "output_type": "execute_result"
    }
   ],
   "source": [
    "# Se revisa que ninguno de los clusters nuevos supere el promedio anteriormente mencionado\n",
    "wcd = []\n",
    "for i in range(count_k): # Cantidad nueva de clusters\n",
    "    cluster = df_final[df_final['labels'] == i].copy()\n",
    "    cluster.drop(columns=['labels'], inplace=True)\n",
    "    centroide = KM_final.cluster_centers_[i]\n",
    "\n",
    "    distancia_al_centroide = np.linalg.norm(cluster - centroide, axis=1)\n",
    "    distancia_intra_cluster = np.sum(distancia_al_centroide)\n",
    "    wcd.append(distancia_intra_cluster)\n",
    "    \n",
    "E = Matrix([round(numero) for numero in wcd]) # Se redondean los valores y se transforma a matriz\n",
    "\n",
    "\n",
    "\n",
    "lista1 = [] # Lista de centroides\n",
    "for i in range(count_k): # Cantidad nueva de clusters\n",
    "    if (wcd[i] >= promedio):\n",
    "        lista1.append([i,'Incorrecto'])\n",
    "    else:\n",
    "        lista1.append([i,'Correcto'])\n",
    "\n",
    "F = np.concatenate((lista1, E), axis=1) # Se concatenan las listas\n",
    "Matrix(F)"
   ]
  },
  {
   "cell_type": "markdown",
   "id": "589a9388",
   "metadata": {},
   "source": [
    "#### Todos están bien definidos."
   ]
  },
  {
   "cell_type": "code",
   "execution_count": 89,
   "id": "a1b14e63",
   "metadata": {},
   "outputs": [
    {
     "data": {
      "text/html": [
       "<div>\n",
       "<style scoped>\n",
       "    .dataframe tbody tr th:only-of-type {\n",
       "        vertical-align: middle;\n",
       "    }\n",
       "\n",
       "    .dataframe tbody tr th {\n",
       "        vertical-align: top;\n",
       "    }\n",
       "\n",
       "    .dataframe thead th {\n",
       "        text-align: right;\n",
       "    }\n",
       "</style>\n",
       "<table border=\"1\" class=\"dataframe\">\n",
       "  <thead>\n",
       "    <tr style=\"text-align: right;\">\n",
       "      <th></th>\n",
       "      <th>X0</th>\n",
       "      <th>Y0</th>\n",
       "      <th>X1</th>\n",
       "      <th>Y1</th>\n",
       "      <th>X2</th>\n",
       "      <th>Y2</th>\n",
       "      <th>X3</th>\n",
       "      <th>Y3</th>\n",
       "      <th>X4</th>\n",
       "      <th>Y4</th>\n",
       "      <th>...</th>\n",
       "      <th>X8</th>\n",
       "      <th>Y8</th>\n",
       "      <th>X9</th>\n",
       "      <th>Y9</th>\n",
       "      <th>X10</th>\n",
       "      <th>Y10</th>\n",
       "      <th>X11</th>\n",
       "      <th>Y11</th>\n",
       "      <th>X12</th>\n",
       "      <th>Y12</th>\n",
       "    </tr>\n",
       "  </thead>\n",
       "  <tbody>\n",
       "    <tr>\n",
       "      <th>0</th>\n",
       "      <td>-70.645118</td>\n",
       "      <td>-33.444853</td>\n",
       "      <td>-70.581886</td>\n",
       "      <td>-33.408353</td>\n",
       "      <td>-70.589691</td>\n",
       "      <td>-33.417406</td>\n",
       "      <td>-70.659321</td>\n",
       "      <td>-33.443141</td>\n",
       "      <td>-70.781296</td>\n",
       "      <td>-33.398465</td>\n",
       "      <td>...</td>\n",
       "      <td>-70.581894</td>\n",
       "      <td>-33.414419</td>\n",
       "      <td>-70.751873</td>\n",
       "      <td>-33.379588</td>\n",
       "      <td>-70.752483</td>\n",
       "      <td>-33.545614</td>\n",
       "      <td>-70.602315</td>\n",
       "      <td>-33.550168</td>\n",
       "      <td>-70.634019</td>\n",
       "      <td>-33.442763</td>\n",
       "    </tr>\n",
       "    <tr>\n",
       "      <th>1</th>\n",
       "      <td>-70.587638</td>\n",
       "      <td>-33.420063</td>\n",
       "      <td>-70.581513</td>\n",
       "      <td>-33.409577</td>\n",
       "      <td>-70.651066</td>\n",
       "      <td>-33.444679</td>\n",
       "      <td>-70.660026</td>\n",
       "      <td>-33.443476</td>\n",
       "      <td>-70.581660</td>\n",
       "      <td>-33.415852</td>\n",
       "      <td>...</td>\n",
       "      <td>-70.780362</td>\n",
       "      <td>-33.405519</td>\n",
       "      <td>-70.753197</td>\n",
       "      <td>-33.383459</td>\n",
       "      <td>-70.691522</td>\n",
       "      <td>-33.467238</td>\n",
       "      <td>-70.636867</td>\n",
       "      <td>-33.462403</td>\n",
       "      <td>-70.596003</td>\n",
       "      <td>-33.557862</td>\n",
       "    </tr>\n",
       "  </tbody>\n",
       "</table>\n",
       "<p>2 rows × 26 columns</p>\n",
       "</div>"
      ],
      "text/plain": [
       "          X0         Y0         X1         Y1         X2         Y2  \\\n",
       "0 -70.645118 -33.444853 -70.581886 -33.408353 -70.589691 -33.417406   \n",
       "1 -70.587638 -33.420063 -70.581513 -33.409577 -70.651066 -33.444679   \n",
       "\n",
       "          X3         Y3         X4         Y4  ...         X8         Y8  \\\n",
       "0 -70.659321 -33.443141 -70.781296 -33.398465  ... -70.581894 -33.414419   \n",
       "1 -70.660026 -33.443476 -70.581660 -33.415852  ... -70.780362 -33.405519   \n",
       "\n",
       "          X9         Y9        X10        Y10        X11        Y11  \\\n",
       "0 -70.751873 -33.379588 -70.752483 -33.545614 -70.602315 -33.550168   \n",
       "1 -70.753197 -33.383459 -70.691522 -33.467238 -70.636867 -33.462403   \n",
       "\n",
       "         X12        Y12  \n",
       "0 -70.634019 -33.442763  \n",
       "1 -70.596003 -33.557862  \n",
       "\n",
       "[2 rows x 26 columns]"
      ]
     },
     "metadata": {},
     "output_type": "display_data"
    }
   ],
   "source": [
    "# Se repite el proceso para graficar\n",
    "datos = pd.DataFrame(KM_final.cluster_centers_, columns = ['LatitudPAB', 'LongitudPAB','LatitudCOM','LongitudCOM'])\n",
    "datos = datos[['LongitudPAB', 'LongitudCOM', 'LatitudPAB', 'LatitudCOM']]\n",
    "datoss = np.array(datos)\n",
    "#display(datoss)\n",
    "\n",
    "# Se crea el data frame para graficar\n",
    "grafico = pd.DataFrame({\n",
    "    'X0': datoss[0][0:2],\n",
    "    'Y0': datoss[0][2:],\n",
    "    'X1': datoss[1][0:2],\n",
    "    'Y1': datoss[1][2:],\n",
    "    'X2': datoss[2][0:2],\n",
    "    'Y2': datoss[2][2:],\n",
    "    'X3': datoss[3][0:2],\n",
    "    'Y3': datoss[3][2:],\n",
    "    'X4': datoss[4][0:2],\n",
    "    'Y4': datoss[4][2:],\n",
    "    'X5': datoss[5][0:2],\n",
    "    'Y5': datoss[5][2:],\n",
    "    'X6': datoss[6][0:2],\n",
    "    'Y6': datoss[6][2:],\n",
    "    'X7': datoss[7][0:2],\n",
    "    'Y7': datoss[7][2:],\n",
    "    'X8': datoss[8][0:2],\n",
    "    'Y8': datoss[8][2:],\n",
    "    'X9': datoss[9][0:2],\n",
    "    'Y9': datoss[9][2:],\n",
    "    'X10': datoss[10][0:2],\n",
    "    'Y10': datoss[10][2:],\n",
    "    'X11': datoss[11][0:2],\n",
    "    'Y11': datoss[11][2:],\n",
    "    'X12': datoss[12][0:2],\n",
    "    'Y12': datoss[12][2:]})\n",
    "\n",
    "#display(grafico)"
   ]
  },
  {
   "cell_type": "markdown",
   "id": "ca2fa3ab",
   "metadata": {},
   "source": [
    "##### Código utilizado para automatizar la escritura\n",
    "for i in range(count_k):\n",
    "    print(f\"'X{i}': datoss[{i}][0:2],\")\n",
    "    print(f\"'Y{i}': datoss[{i}][2:],\")\n",
    "    \n",
    "\n",
    "for i in range(count_k):\n",
    "    print(f\"+ geom_line(aes(x= 'X{i}', y='Y{i}'), color='{colores[i]}', size=2)\")\n",
    "    \n",
    "for i in range(count_k):\n",
    "    print(f\"+ annotate('text',x = -70.7{i}, y = -33.5{i}, label = '{i}', color = '{colores[i]}', size = 15, family = 'arial')\")\n",
    "    \n",
    "    \n",
    "colores = ['#E0361B',\n",
    "          '#E07E1B',\n",
    "          '#E0DD1B',\n",
    "          '#86E01B',\n",
    "          '#398530',\n",
    "          '#3BE9C7',  \n",
    "          '#3BAAE9',\n",
    "          '#3344F1',\n",
    "          '#050783',\n",
    "          '#A638E9',\n",
    "          '#E938E1',\n",
    "          '#F136B6',\n",
    "          '#4B2424']    \n",
    "    \n",
    "#3BE9C7"
   ]
  },
  {
   "cell_type": "code",
   "execution_count": 90,
   "id": "7533f344",
   "metadata": {},
   "outputs": [
    {
     "data": {
      "image/png": "[encoded data removed]",
      "text/plain": [
       "<Figure size 640x480 with 1 Axes>"
      ]
     },
     "metadata": {},
     "output_type": "display_data"
    },
    {
     "data": {
      "text/plain": [
       "<ggplot: (8771168531767)>"
      ]
     },
     "execution_count": 90,
     "metadata": {},
     "output_type": "execute_result"
    }
   ],
   "source": [
    "(ggplot(grafico)+ geom_line(aes(x= 'X0', y='Y0'), color='#E0361B', size=2)\n",
    "+ geom_line(aes(x= 'X1', y='Y1'), color='#E07E1B', size=2)\n",
    "+ geom_line(aes(x= 'X2', y='Y2'), color='#E0DD1B', size=2)\n",
    "+ geom_line(aes(x= 'X3', y='Y3'), color='#86E01B', size=2)\n",
    "+ geom_line(aes(x= 'X4', y='Y4'), color='#398530', size=2)\n",
    "+ geom_line(aes(x= 'X5', y='Y5'), color='#36B3B1', size=2)\n",
    "+ geom_line(aes(x= 'X6', y='Y6'), color='#3BAAE9', size=2)\n",
    "+ geom_line(aes(x= 'X7', y='Y7'), color='#3344F1', size=2)\n",
    "+ geom_line(aes(x= 'X8', y='Y8'), color='#050783', size=2)\n",
    "+ geom_line(aes(x= 'X9', y='Y9'), color='#A638E9', size=2)\n",
    "+ geom_line(aes(x= 'X10', y='Y10'), color='#E938E1', size=2)\n",
    "+ geom_line(aes(x= 'X11', y='Y11'), color='#F136B6', size=2)\n",
    "+ geom_line(aes(x= 'X12', y='Y12'), color='#4B2424', size=2)\n",
    "\n",
    "\n",
    "+ labs(title = 'Clusters de trayectoria', y = 'Latitud', x = 'Longitud')\n",
    "\n",
    "+ theme(axis_title_y=element_text(size=40,color='black',family='Arial')) \n",
    "+ theme(axis_title_x=element_text(size=40,color='black',family='Arial'))\n",
    "+ theme_bw()  \n",
    "+ theme(plot_title=element_text(size=20,face=\"Arial\", hjust = 'center', vjust = 'top', color='black',lineheight=2,va=\"top\",family=\"Arial\"))\n",
    "\n",
    " \n",
    "+ annotate('text',x = -70.61, y = -33.44, label = '0', color = '#E0361B', size = 15, family = 'arial')\n",
    "+ annotate('text',x = -70.58, y = -33.40, label = '1', color = '#E07E1B', size = 15, family = 'arial')\n",
    "+ annotate('text',x = -70.63, y = -33.425, label = '2', color = '#E0DD1B', size = 15, family = 'arial')\n",
    "+ annotate('text',x = -70.66, y = -33.435, label = '3', color = '#86E01B', size = 15, family = 'arial')\n",
    "+ annotate('text',x = -70.67, y = -33.40, label = '4', color = '#398530', size = 15, family = 'arial')\n",
    "+ annotate('text',x = -70.72, y = -33.44, label = '5', color = '#36B3B1', size = 15, family = 'arial')\n",
    "+ annotate('text',x = -70.70, y = -33.50, label = '6', color = '#3BAAE9', size = 15, family = 'arial')\n",
    "+ annotate('text',x = -70.70, y = -33.425, label = '7', color = '#3344F1', size = 15, family = 'arial')\n",
    "+ annotate('text',x = -70.67, y = -33.420, label = '8', color = '#050783', size = 15, family = 'arial')\n",
    "+ annotate('text',x = -70.75, y = -33.375, label = '9', color = '#A638E9', size = 15, family = 'arial')\n",
    "+ annotate('text',x = -70.73, y = -33.50, label = '10', color = '#E938E1', size = 15, family = 'arial')\n",
    "+ annotate('text',x = -70.63, y = -33.50, label = '11', color = '#F136B6', size = 15, family = 'arial')\n",
    "+ annotate('text',x = -70.61, y = -33.50, label = '12', color = '#4B2424', size = 15, family = 'arial')\n",
    "\n",
    ")"
   ]
  },
  {
   "cell_type": "markdown",
   "id": "1412f86c",
   "metadata": {},
   "source": [
    "# Problema 5"
   ]
  },
  {
   "cell_type": "markdown",
   "id": "3e46f618",
   "metadata": {},
   "source": [
    "# Problema 6\n",
    "#### Como k-means busca minimizar el within-cluster-distance se seleccionará el método que arroje el menor valor para esta métrica."
   ]
  },
  {
   "cell_type": "code",
   "execution_count": 92,
   "id": "b6f058e7",
   "metadata": {},
   "outputs": [
    {
     "name": "stdout",
     "output_type": "stream",
     "text": [
      "WCD del problema 2: 2623.282027732645\n",
      "WCD del problema 4: 2205.297935529878\n"
     ]
    }
   ],
   "source": [
    "# Comparando\n",
    "print('WCD del problema 2:', km.inertia_)\n",
    "print('WCD del problema 4:', KM_final.inertia_)\n"
   ]
  },
  {
   "cell_type": "markdown",
   "id": "aa54f34a",
   "metadata": {},
   "source": [
    "#### Se selecciona el segundo modelo, ya que consigue el menor valor para WCD, dando a entender que los cluster están mejor divididos y definidos."
   ]
  }
 ],
 "metadata": {
  "kernelspec": {
   "display_name": "Python 3",
   "language": "python",
   "name": "python3"
  },
  "language_info": {
   "codemirror_mode": {
    "name": "ipython",
    "version": 3
   },
   "file_extension": ".py",
   "mimetype": "text/x-python",
   "name": "python",
   "nbconvert_exporter": "python",
   "pygments_lexer": "ipython3",
   "version": "3.8.8"
  }
 },
 "nbformat": 4,
 "nbformat_minor": 5
}
