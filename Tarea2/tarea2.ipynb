{
 "cells": [
  {
   "cell_type": "code",
   "execution_count": 5,
   "metadata": {},
   "outputs": [],
   "source": [
    "# Importar las librerías necesarias\n",
    "import pandas as pd\n",
    "import numpy as np\n",
    "import matplotlib.pyplot as plt\n",
    "import seaborn as sns\n",
    "from sklearn.model_selection import train_test_split, GridSearchCV\n",
    "from sklearn.linear_model import LinearRegression, Ridge, Lasso\n",
    "from sklearn.metrics import mean_squared_error, mean_absolute_error, r2_score"
   ]
  },
  {
   "cell_type": "code",
   "execution_count": 6,
   "metadata": {},
   "outputs": [],
   "source": [
    "# Cargar las bases de datos en formato CSV\n",
    "train = pd.read_csv(\n",
    "    \"trainData.csv\"\n",
    ")  # Base de datos de entrenamiento con 1 millón de vuelos y 21 variables\n",
    "test = pd.read_csv(\n",
    "    \"evalData.csv\"\n",
    ")  # Base de datos de prueba con 248 mil vuelos y 20 variables (sin la variable no show)\n"
   ]
  },
  {
   "cell_type": "code",
   "execution_count": 8,
   "metadata": {},
   "outputs": [
    {
     "name": "stdout",
     "output_type": "stream",
     "text": [
      "<class 'pandas.core.frame.DataFrame'>\n",
      "RangeIndex: 999890 entries, 0 to 999889\n",
      "Data columns (total 22 columns):\n",
      " #   Column           Non-Null Count   Dtype  \n",
      "---  ------           --------------   -----  \n",
      " 0   Unnamed: 0       999890 non-null  int64  \n",
      " 1   date             999890 non-null  object \n",
      " 2   fligth_number    999890 non-null  int64  \n",
      " 3   origin           999890 non-null  object \n",
      " 4   destination      999890 non-null  object \n",
      " 5   distance         999890 non-null  int64  \n",
      " 6   noshow           999890 non-null  float64\n",
      " 7   denied_boarding  999890 non-null  int64  \n",
      " 8   pax_midlow       999890 non-null  int64  \n",
      " 9   pax_high         999890 non-null  int64  \n",
      " 10  pax_midhigh      999890 non-null  int64  \n",
      " 11  pax_low          999890 non-null  int64  \n",
      " 12  pax_freqflyer    999890 non-null  int64  \n",
      " 13  group_bookings   999890 non-null  int64  \n",
      " 14  out_of_stock     999890 non-null  int64  \n",
      " 15  dom_cnx          999890 non-null  int64  \n",
      " 16  int_cnx          999890 non-null  int64  \n",
      " 17  p2p              999890 non-null  int64  \n",
      " 18  departure_time   998472 non-null  object \n",
      " 19  capacity         999890 non-null  float64\n",
      " 20  revenues_usd     999890 non-null  float64\n",
      " 21  bookings         999890 non-null  int64  \n",
      "dtypes: float64(3), int64(15), object(4)\n",
      "memory usage: 167.8+ MB\n"
     ]
    },
    {
     "data": {
      "text/plain": [
       "noshow\n",
       "4.0      103391\n",
       "3.0      102522\n",
       "5.0       97091\n",
       "2.0       95235\n",
       "6.0       86540\n",
       "          ...  \n",
       "93.0          1\n",
       "124.0         1\n",
       "105.0         1\n",
       "99.0          1\n",
       "108.0         1\n",
       "Name: count, Length: 115, dtype: int64"
      ]
     },
     "execution_count": 8,
     "metadata": {},
     "output_type": "execute_result"
    }
   ],
   "source": [
    "\n",
    "# Explorar las bases de datos\n",
    "train.head()  # Ver las primeras filas de la base de datos de entrenamiento\n",
    "train.info()  # Ver los tipos de datos y el número de valores no nulos de cada variable\n",
    "train.describe()  # Ver las estadísticas descriptivas de cada variable numérica\n",
    "train[\n",
    "    \"noshow\"\n",
    "].value_counts()  # Ver la distribución de la variable dependiente (no show)\n"
   ]
  },
  {
   "cell_type": "code",
   "execution_count": 11,
   "metadata": {},
   "outputs": [
    {
     "ename": "ValueError",
     "evalue": "could not convert string to float: '2009-11-09'",
     "output_type": "error",
     "traceback": [
      "\u001b[1;31m---------------------------------------------------------------------------\u001b[0m",
      "\u001b[1;31mValueError\u001b[0m                                Traceback (most recent call last)",
      "\u001b[1;32mc:\\Users\\sebad\\OneDrive - Universidad Adolfo Ibanez\\Code\\Métodos de Aprendizaje Automático\\Tareas\\Tarea2\\tarea2.ipynb Celda 4\u001b[0m line \u001b[0;36m1\n\u001b[0;32m      <a href='vscode-notebook-cell:/c%3A/Users/sebad/OneDrive%20-%20Universidad%20Adolfo%20Ibanez/Code/M%C3%A9todos%20de%20Aprendizaje%20Autom%C3%A1tico/Tareas/Tarea2/tarea2.ipynb#W3sZmlsZQ%3D%3D?line=2'>3</a>\u001b[0m sns\u001b[39m.\u001b[39mboxplot(\n\u001b[0;32m      <a href='vscode-notebook-cell:/c%3A/Users/sebad/OneDrive%20-%20Universidad%20Adolfo%20Ibanez/Code/M%C3%A9todos%20de%20Aprendizaje%20Autom%C3%A1tico/Tareas/Tarea2/tarea2.ipynb#W3sZmlsZQ%3D%3D?line=3'>4</a>\u001b[0m     x\u001b[39m=\u001b[39m\u001b[39m\"\u001b[39m\u001b[39mnoshow\u001b[39m\u001b[39m\"\u001b[39m, y\u001b[39m=\u001b[39m\u001b[39m\"\u001b[39m\u001b[39mpax_low\u001b[39m\u001b[39m\"\u001b[39m, data\u001b[39m=\u001b[39mtrain\n\u001b[0;32m      <a href='vscode-notebook-cell:/c%3A/Users/sebad/OneDrive%20-%20Universidad%20Adolfo%20Ibanez/Code/M%C3%A9todos%20de%20Aprendizaje%20Autom%C3%A1tico/Tareas/Tarea2/tarea2.ipynb#W3sZmlsZQ%3D%3D?line=4'>5</a>\u001b[0m )  \u001b[39m# Ver el diagrama de caja de la variable dependiente (no show) según la variable independiente (price)\u001b[39;00m\n\u001b[0;32m      <a href='vscode-notebook-cell:/c%3A/Users/sebad/OneDrive%20-%20Universidad%20Adolfo%20Ibanez/Code/M%C3%A9todos%20de%20Aprendizaje%20Autom%C3%A1tico/Tareas/Tarea2/tarea2.ipynb#W3sZmlsZQ%3D%3D?line=5'>6</a>\u001b[0m sns\u001b[39m.\u001b[39mscatterplot(\n\u001b[0;32m      <a href='vscode-notebook-cell:/c%3A/Users/sebad/OneDrive%20-%20Universidad%20Adolfo%20Ibanez/Code/M%C3%A9todos%20de%20Aprendizaje%20Autom%C3%A1tico/Tareas/Tarea2/tarea2.ipynb#W3sZmlsZQ%3D%3D?line=6'>7</a>\u001b[0m     x\u001b[39m=\u001b[39m\u001b[39m\"\u001b[39m\u001b[39mdistance\u001b[39m\u001b[39m\"\u001b[39m, y\u001b[39m=\u001b[39m\u001b[39m\"\u001b[39m\u001b[39mnoshow\u001b[39m\u001b[39m\"\u001b[39m, data\u001b[39m=\u001b[39mtrain\n\u001b[0;32m      <a href='vscode-notebook-cell:/c%3A/Users/sebad/OneDrive%20-%20Universidad%20Adolfo%20Ibanez/Code/M%C3%A9todos%20de%20Aprendizaje%20Autom%C3%A1tico/Tareas/Tarea2/tarea2.ipynb#W3sZmlsZQ%3D%3D?line=7'>8</a>\u001b[0m )  \u001b[39m# Ver el diagrama de dispersión entre la variable dependiente (no show) y la variable independiente (distance)\u001b[39;00m\n\u001b[0;32m      <a href='vscode-notebook-cell:/c%3A/Users/sebad/OneDrive%20-%20Universidad%20Adolfo%20Ibanez/Code/M%C3%A9todos%20de%20Aprendizaje%20Autom%C3%A1tico/Tareas/Tarea2/tarea2.ipynb#W3sZmlsZQ%3D%3D?line=8'>9</a>\u001b[0m sns\u001b[39m.\u001b[39mheatmap(\n\u001b[1;32m---> <a href='vscode-notebook-cell:/c%3A/Users/sebad/OneDrive%20-%20Universidad%20Adolfo%20Ibanez/Code/M%C3%A9todos%20de%20Aprendizaje%20Autom%C3%A1tico/Tareas/Tarea2/tarea2.ipynb#W3sZmlsZQ%3D%3D?line=9'>10</a>\u001b[0m     train\u001b[39m.\u001b[39mcorr(), annot\u001b[39m=\u001b[39m\u001b[39mTrue\u001b[39;00m\n\u001b[0;32m     <a href='vscode-notebook-cell:/c%3A/Users/sebad/OneDrive%20-%20Universidad%20Adolfo%20Ibanez/Code/M%C3%A9todos%20de%20Aprendizaje%20Autom%C3%A1tico/Tareas/Tarea2/tarea2.ipynb#W3sZmlsZQ%3D%3D?line=10'>11</a>\u001b[0m )\n",
      "File \u001b[1;32mc:\\Users\\sebad\\anaconda3\\Lib\\site-packages\\pandas\\core\\frame.py:10054\u001b[0m, in \u001b[0;36mDataFrame.corr\u001b[1;34m(self, method, min_periods, numeric_only)\u001b[0m\n\u001b[0;32m  10052\u001b[0m cols \u001b[39m=\u001b[39m data\u001b[39m.\u001b[39mcolumns\n\u001b[0;32m  10053\u001b[0m idx \u001b[39m=\u001b[39m cols\u001b[39m.\u001b[39mcopy()\n\u001b[1;32m> 10054\u001b[0m mat \u001b[39m=\u001b[39m data\u001b[39m.\u001b[39mto_numpy(dtype\u001b[39m=\u001b[39m\u001b[39mfloat\u001b[39m, na_value\u001b[39m=\u001b[39mnp\u001b[39m.\u001b[39mnan, copy\u001b[39m=\u001b[39m\u001b[39mFalse\u001b[39;00m)\n\u001b[0;32m  10056\u001b[0m \u001b[39mif\u001b[39;00m method \u001b[39m==\u001b[39m \u001b[39m\"\u001b[39m\u001b[39mpearson\u001b[39m\u001b[39m\"\u001b[39m:\n\u001b[0;32m  10057\u001b[0m     correl \u001b[39m=\u001b[39m libalgos\u001b[39m.\u001b[39mnancorr(mat, minp\u001b[39m=\u001b[39mmin_periods)\n",
      "File \u001b[1;32mc:\\Users\\sebad\\anaconda3\\Lib\\site-packages\\pandas\\core\\frame.py:1838\u001b[0m, in \u001b[0;36mDataFrame.to_numpy\u001b[1;34m(self, dtype, copy, na_value)\u001b[0m\n\u001b[0;32m   1836\u001b[0m \u001b[39mif\u001b[39;00m dtype \u001b[39mis\u001b[39;00m \u001b[39mnot\u001b[39;00m \u001b[39mNone\u001b[39;00m:\n\u001b[0;32m   1837\u001b[0m     dtype \u001b[39m=\u001b[39m np\u001b[39m.\u001b[39mdtype(dtype)\n\u001b[1;32m-> 1838\u001b[0m result \u001b[39m=\u001b[39m \u001b[39mself\u001b[39m\u001b[39m.\u001b[39m_mgr\u001b[39m.\u001b[39mas_array(dtype\u001b[39m=\u001b[39mdtype, copy\u001b[39m=\u001b[39mcopy, na_value\u001b[39m=\u001b[39mna_value)\n\u001b[0;32m   1839\u001b[0m \u001b[39mif\u001b[39;00m result\u001b[39m.\u001b[39mdtype \u001b[39mis\u001b[39;00m \u001b[39mnot\u001b[39;00m dtype:\n\u001b[0;32m   1840\u001b[0m     result \u001b[39m=\u001b[39m np\u001b[39m.\u001b[39marray(result, dtype\u001b[39m=\u001b[39mdtype, copy\u001b[39m=\u001b[39m\u001b[39mFalse\u001b[39;00m)\n",
      "File \u001b[1;32mc:\\Users\\sebad\\anaconda3\\Lib\\site-packages\\pandas\\core\\internals\\managers.py:1732\u001b[0m, in \u001b[0;36mBlockManager.as_array\u001b[1;34m(self, dtype, copy, na_value)\u001b[0m\n\u001b[0;32m   1730\u001b[0m         arr\u001b[39m.\u001b[39mflags\u001b[39m.\u001b[39mwriteable \u001b[39m=\u001b[39m \u001b[39mFalse\u001b[39;00m\n\u001b[0;32m   1731\u001b[0m \u001b[39melse\u001b[39;00m:\n\u001b[1;32m-> 1732\u001b[0m     arr \u001b[39m=\u001b[39m \u001b[39mself\u001b[39m\u001b[39m.\u001b[39m_interleave(dtype\u001b[39m=\u001b[39mdtype, na_value\u001b[39m=\u001b[39mna_value)\n\u001b[0;32m   1733\u001b[0m     \u001b[39m# The underlying data was copied within _interleave, so no need\u001b[39;00m\n\u001b[0;32m   1734\u001b[0m     \u001b[39m# to further copy if copy=True or setting na_value\u001b[39;00m\n\u001b[0;32m   1736\u001b[0m \u001b[39mif\u001b[39;00m na_value \u001b[39mis\u001b[39;00m \u001b[39mnot\u001b[39;00m lib\u001b[39m.\u001b[39mno_default:\n",
      "File \u001b[1;32mc:\\Users\\sebad\\anaconda3\\Lib\\site-packages\\pandas\\core\\internals\\managers.py:1794\u001b[0m, in \u001b[0;36mBlockManager._interleave\u001b[1;34m(self, dtype, na_value)\u001b[0m\n\u001b[0;32m   1792\u001b[0m     \u001b[39melse\u001b[39;00m:\n\u001b[0;32m   1793\u001b[0m         arr \u001b[39m=\u001b[39m blk\u001b[39m.\u001b[39mget_values(dtype)\n\u001b[1;32m-> 1794\u001b[0m     result[rl\u001b[39m.\u001b[39mindexer] \u001b[39m=\u001b[39m arr\n\u001b[0;32m   1795\u001b[0m     itemmask[rl\u001b[39m.\u001b[39mindexer] \u001b[39m=\u001b[39m \u001b[39m1\u001b[39m\n\u001b[0;32m   1797\u001b[0m \u001b[39mif\u001b[39;00m \u001b[39mnot\u001b[39;00m itemmask\u001b[39m.\u001b[39mall():\n",
      "\u001b[1;31mValueError\u001b[0m: could not convert string to float: '2009-11-09'"
     ]
    },
    {
     "data": {
      "image/png": "[encoded data removed]",
      "text/plain": [
       "<Figure size 640x480 with 1 Axes>"
      ]
     },
     "metadata": {},
     "output_type": "display_data"
    }
   ],
   "source": [
    "# Visualizar las relaciones entre las variables\n",
    "sns.histplot(train[\"noshow\"])  # Ver el histograma de la variable dependiente (no show)\n",
    "sns.boxplot(\n",
    "    x=\"noshow\", y=\"pax_low\", data=train\n",
    ")  # Ver el diagrama de caja de la variable dependiente (no show) según la variable independiente (price)\n",
    "sns.scatterplot(\n",
    "    x=\"distance\", y=\"noshow\", data=train\n",
    ")  # Ver el diagrama de dispersión entre la variable dependiente (no show) y la variable independiente (distance)\n",
    "sns.heatmap(\n",
    "    train.corr(), annot=True\n",
    ")  # Ver la matriz de correlación entre todas las variables numéricas\n"
   ]
  },
  {
   "cell_type": "code",
   "execution_count": null,
   "metadata": {},
   "outputs": [],
   "source": [
    "\n",
    "# Seleccionar las variables predictoras\n",
    "X_train = train[\n",
    "    [\"price\", \"distance\", \"origin\", \"destination\"]\n",
    "]  # Seleccionar las variables independientes que se consideran relevantes para el problema\n",
    "y_train = train[\"no_show\"]  # Seleccionar la variable dependiente (no show)\n",
    "X_test = test[\n",
    "    [\"price\", \"distance\", \"origin\", \"destination\"]\n",
    "]  # Seleccionar las mismas variables independientes para la base de datos de prueba\n"
   ]
  },
  {
   "cell_type": "code",
   "execution_count": null,
   "metadata": {},
   "outputs": [],
   "source": [
    "# Dividir la base de datos de entrenamiento en dos conjuntos: uno para entrenar el modelo y otro para validar su rendimiento\n",
    "X_train, X_val, y_train, y_val = train_test_split(\n",
    "    X_train, y_train, test_size=0.2, random_state=42\n",
    ")  # Hacer una división aleatoria y estratificada con un 80% para entrenamiento y un 20% para validación\n"
   ]
  },
  {
   "cell_type": "code",
   "execution_count": null,
   "metadata": {},
   "outputs": [],
   "source": [
    "# Elegir el tipo de regresión que se va a usar para el problema\n",
    "model = LinearRegression()  # Elegir una regresión lineal como modelo inicial\n",
    "\n",
    "# Ajustar el modelo de regresión usando el conjunto de entrenamiento\n",
    "model.fit(\n",
    "    X_train, y_train\n",
    ")  # Pasar como argumentos los conjuntos de entrenamiento de las variables independientes y dependientes\n",
    "\n",
    "# Evaluar el modelo de regresión usando el conjunto de validación\n",
    "y_pred = model.predict(\n",
    "    X_val\n",
    ")  # Pasar como argumento el conjunto de validación de las variables independientes y obtener los valores predichos de la variable dependiente\n",
    "mse = mean_squared_error(\n",
    "    y_val, y_pred\n",
    ")  # Calcular el error cuadrático medio entre los valores reales y los predichos\n",
    "mae = mean_absolute_error(\n",
    "    y_val, y_pred\n",
    ")  # Calcular el error absoluto medio entre los valores reales y los predichos\n",
    "r2 = r2_score(\n",
    "    y_val, y_pred\n",
    ")  # Calcular el coeficiente de determinación entre los valores reales y los predichos\n",
    "print(f\"MSE: {mse}, MAE: {mae}, R2: {r2}\")  # Imprimir los resultados de las métricas\n",
    "plt.scatter(\n",
    "    y_val, y_pred\n",
    ")  # Ver el diagrama de dispersión entre los valores reales y los predichos\n"
   ]
  },
  {
   "cell_type": "code",
   "execution_count": null,
   "metadata": {},
   "outputs": [],
   "source": [
    "# Optimizar el modelo de regresión si se considera necesario\n",
    "model = Ridge()  # Elegir una regresión Ridge como modelo alternativo con regularización\n",
    "params = {\n",
    "    \"alpha\": [0.01, 0.1, 1, 10]\n",
    "}  # Definir un diccionario con los posibles valores del parámetro alpha (coeficiente de regularización)\n",
    "grid = GridSearchCV(\n",
    "    model, params, scoring=\"neg_mean_squared_error\"\n",
    ")  # Definir un objeto GridSearchCV para hacer una búsqueda exhaustiva de los mejores parámetros según el error cuadrático medio negativo\n",
    "grid.fit(\n",
    "    X_train, y_train\n",
    ")  # Ajustar el objeto GridSearchCV usando el conjunto de entrenamiento\n",
    "print(grid.best_params_)  # Imprimir los mejores parámetros encontrados\n",
    "model = grid.best_estimator_  # Asignar el mejor modelo encontrado al objeto model\n",
    "y_pred = model.predict(\n",
    "    X_val\n",
    ")  # Evaluar el modelo optimizado usando el conjunto de validación\n",
    "mse = mean_squared_error(\n",
    "    y_val, y_pred\n",
    ")  # Calcular el error cuadrático medio entre los valores reales y los predichos\n",
    "mae = mean_absolute_error(\n",
    "    y_val, y_pred\n",
    ")  # Calcular el error absoluto medio entre los valores reales y los predichos\n",
    "r2 = r2_score(\n",
    "    y_val, y_pred\n",
    ")  # Calcular el coeficiente de determinación entre los valores reales y los predichos\n",
    "print(f\"MSE: {mse}, MAE: {mae}, R2: {r2}\")  # Imprimir los resultados de las métricas\n",
    "plt.scatter(\n",
    "    y_val, y_pred\n",
    ")  # Ver el diagrama de dispersión entre los valores reales y los predichos\n"
   ]
  },
  {
   "cell_type": "code",
   "execution_count": null,
   "metadata": {},
   "outputs": [],
   "source": [
    "\n",
    "# Aplicar el modelo de regresión a la base de datos de prueba que no tiene la variable no show\n",
    "y_test = model.predict(\n",
    "    X_test\n",
    ")  # Pasar como argumento la base de datos de prueba con las variables independientes y obtener los valores predichos de no show para cada vuelo\n",
    "\n",
    "# Generar un archivo CSV con una sola columna y 248 mil filas con los valores predichos de no show\n",
    "y_test = pd.DataFrame(\n",
    "    y_test, columns=[\"no_show\"]\n",
    ")  # Crear un objeto DataFrame con los valores predichos y asignarle un nombre a la columna\n",
    "y_test.to_csv(\n",
    "    \"no_show.csv\", index=False\n",
    ")  # Guardar el archivo CSV en el directorio deseado sin incluir el índice\n"
   ]
  }
 ],
 "metadata": {
  "kernelspec": {
   "display_name": "base",
   "language": "python",
   "name": "python3"
  },
  "language_info": {
   "codemirror_mode": {
    "name": "ipython",
    "version": 3
   },
   "file_extension": ".py",
   "mimetype": "text/x-python",
   "name": "python",
   "nbconvert_exporter": "python",
   "pygments_lexer": "ipython3",
   "version": "3.11.5"
  }
 },
 "nbformat": 4,
 "nbformat_minor": 2
}
