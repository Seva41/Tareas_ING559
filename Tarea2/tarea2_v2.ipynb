{
 "cells": [
  {
   "cell_type": "code",
   "execution_count": 1,
   "metadata": {},
   "outputs": [],
   "source": [
    "import pandas as pd\n",
    "import numpy as np\n",
    "from sklearn.model_selection import train_test_split, GridSearchCV\n",
    "from sklearn.preprocessing import StandardScaler, OneHotEncoder\n",
    "from sklearn.compose import ColumnTransformer\n",
    "from sklearn.pipeline import Pipeline\n",
    "from sklearn.neighbors import KNeighborsRegressor\n",
    "from sklearn.tree import DecisionTreeRegressor\n",
    "from sklearn.metrics import mean_absolute_error\n",
    "from datetime import datetime"
   ]
  },
  {
   "cell_type": "code",
   "execution_count": 2,
   "metadata": {},
   "outputs": [],
   "source": [
    "# Cargar los conjuntos de datos\n",
    "train_data = pd.read_csv(\"trainData.csv\")\n",
    "eval_data = pd.read_csv(\"evalData.csv\")"
   ]
  },
  {
   "cell_type": "code",
   "execution_count": 3,
   "metadata": {},
   "outputs": [],
   "source": [
    "# Limpieza de Datos y Preprocesamiento\n",
    "\n",
    "# Manejar valores faltantes\n",
    "train_data['departure_time'] = train_data['departure_time'].fillna(train_data['departure_time'].mode()[0])\n",
    "eval_data['departure_time'] = eval_data['departure_time'].fillna(eval_data['departure_time'].mode()[0])"
   ]
  },
  {
   "cell_type": "code",
   "execution_count": 4,
   "metadata": {},
   "outputs": [],
   "source": [
    "# Convertir 'date' y 'departure_time' a tipos de datos de fecha/hora\n",
    "train_data['date'] = pd.to_datetime(train_data['date'])\n",
    "eval_data['date'] = pd.to_datetime(eval_data['date'])\n",
    "train_data['departure_time'] = pd.to_datetime(train_data['departure_time'], format='%H:%M:%S').dt.time\n",
    "eval_data['departure_time'] = pd.to_datetime(eval_data['departure_time'], format='%H:%M:%S').dt.time\n"
   ]
  },
  {
   "cell_type": "code",
   "execution_count": 5,
   "metadata": {},
   "outputs": [],
   "source": [
    "# Extraer características adicionales\n",
    "train_data['day_of_week'] = train_data['date'].dt.dayofweek\n",
    "eval_data['day_of_week'] = eval_data['date'].dt.dayofweek\n",
    "train_data['hour_of_day'] = train_data['departure_time'].apply(lambda x: x.hour)\n",
    "eval_data['hour_of_day'] = eval_data['departure_time'].apply(lambda x: x.hour)\n"
   ]
  },
  {
   "cell_type": "code",
   "execution_count": 6,
   "metadata": {},
   "outputs": [],
   "source": [
    "# Eliminar columna innecesaria\n",
    "train_data = train_data.drop(columns=['Unnamed: 0'])\n",
    "eval_data = eval_data.drop(columns=['Unnamed: 0'])\n"
   ]
  },
  {
   "cell_type": "code",
   "execution_count": 7,
   "metadata": {},
   "outputs": [],
   "source": [
    "# Preparación de los Datos para los Modelos de Machine Learning\n",
    "\n",
    "# Dividir los datos\n",
    "X = train_data.drop(columns=['noshow'])\n",
    "y = train_data['noshow']\n",
    "X_train, X_valid, y_train, y_valid = train_test_split(X, y, test_size=0.2, random_state=42)\n"
   ]
  },
  {
   "cell_type": "code",
   "execution_count": 8,
   "metadata": {},
   "outputs": [],
   "source": [
    "# Identificar columnas numéricas y categóricas\n",
    "num_cols = X_train.select_dtypes(include=['int64', 'float64']).columns\n",
    "cat_cols = X_train.select_dtypes(include=['object']).columns\n"
   ]
  },
  {
   "cell_type": "code",
   "execution_count": 9,
   "metadata": {},
   "outputs": [],
   "source": [
    "# Crear transformadores para variables numéricas y categóricas\n",
    "num_transformer = StandardScaler()\n",
    "cat_transformer = OneHotEncoder(handle_unknown='ignore')\n",
    "\n",
    "# Crear preprocesador\n",
    "preprocessor = ColumnTransformer(\n",
    "    transformers=[\n",
    "        ('num', num_transformer, num_cols),\n",
    "        ('cat', cat_transformer, cat_cols)\n",
    "    ])\n"
   ]
  },
  {
   "cell_type": "code",
   "execution_count": 10,
   "metadata": {},
   "outputs": [],
   "source": [
    "# Construcción y Evaluación de Modelos\n",
    "\n",
    "# Modelo k-Nearest Neighbors (kNN)\n",
    "knn_model = KNeighborsRegressor()\n",
    "knn_pipeline = Pipeline(steps=[('preprocessor', preprocessor),\n",
    "                                ('model', knn_model)])\n"
   ]
  },
  {
   "cell_type": "code",
   "execution_count": 11,
   "metadata": {},
   "outputs": [],
   "source": [
    "# Ajustar los hiperparámetros para kNN\n",
    "param_grid_knn = {\n",
    "    'model__n_neighbors': [5, 10, 15],\n",
    "    'model__weights': ['uniform', 'distance']\n",
    "}\n",
    "grid_search_knn = GridSearchCV(knn_pipeline, param_grid_knn, cv=3, scoring='neg_mean_absolute_error')\n",
    "grid_search_knn.fit(X_train, y_train)\n"
   ]
  },
  {
   "cell_type": "code",
   "execution_count": null,
   "metadata": {},
   "outputs": [],
   "source": [
    "# Evaluar el rendimiento de kNN\n",
    "y_pred_knn = grid_search_knn.predict(X_valid)\n",
    "mae_knn = mean_absolute_error(y_valid, y_pred_knn)\n"
   ]
  },
  {
   "cell_type": "code",
   "execution_count": null,
   "metadata": {},
   "outputs": [],
   "source": [
    "# Modelo Árboles de Regresión\n",
    "tree_model = DecisionTreeRegressor()\n",
    "tree_pipeline = Pipeline(steps=[('preprocessor', preprocessor),\n",
    "                                 ('model', tree_model)])\n",
    "\n",
    "# Ajustar los hiperparámetros para Árboles de Regresión\n",
    "param_grid_tree = {\n",
    "    'model__max_depth': [5, 10, 15],\n",
    "    'model__min_samples_split': [2, 5, 10]\n",
    "}\n",
    "grid_search_tree = GridSearchCV(tree_pipeline, param_grid_tree, cv=3, scoring='neg_mean_absolute_error')\n",
    "grid_search_tree.fit(X_train, y_train)\n"
   ]
  },
  {
   "cell_type": "code",
   "execution_count": null,
   "metadata": {},
   "outputs": [],
   "source": [
    "# Evaluar el rendimiento de Árboles de Regresión\n",
    "y_pred_tree = grid_search_tree.predict(X_valid)\n",
    "mae_tree = mean_absolute_error(y_valid, y_pred_tree)\n"
   ]
  },
  {
   "cell_type": "code",
   "execution_count": null,
   "metadata": {},
   "outputs": [],
   "source": [
    "# Resultados\n",
    "print(\"Mejores hiperparámetros para kNN:\", grid_search_knn.best_params_)\n",
    "print(\"MAE para kNN:\", mae_knn)\n",
    "print(\"Mejores hiperparámetros para Árboles de Regresión:\", grid_search_tree.best_params_)\n",
    "print(\"MAE para Árboles de Regresión:\", mae_tree)\n"
   ]
  },
  {
   "cell_type": "code",
   "execution_count": null,
   "metadata": {},
   "outputs": [],
   "source": [
    "# Realizar Predicciones en el Conjunto de Evaluación\n",
    "final_model = grid_search_knn if mae_knn < mae_tree else grid_search_tree\n",
    "predictions = final_model.predict(eval_data)\n",
    "\n",
    "# Guardar las Predicciones en un Archivo CSV\n",
    "np.savetxt(\"predictions.csv\", predictions, delimiter=\",\")"
   ]
  }
 ],
 "metadata": {
  "kernelspec": {
   "display_name": "base",
   "language": "python",
   "name": "python3"
  },
  "language_info": {
  