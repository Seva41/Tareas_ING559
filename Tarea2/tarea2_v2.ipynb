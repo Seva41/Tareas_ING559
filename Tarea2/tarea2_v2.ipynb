{
 "cells": [
  {
   "cell_type": "code",
   "execution_count": 1,
   "metadata": {},
   "outputs": [],
   "source": [
    "import pandas as pd\n",
    "import numpy as np\n",
    "from sklearn.model_selection import train_test_split, GridSearchCV\n",
    "from sklearn.preprocessing import StandardScaler, OneHotEncoder\n",
    "from sklearn.compose import ColumnTransformer\n",
    "from sklearn.pipeline import Pipeline\n",
    "from sklearn.neighbors import KNeighborsRegressor\n",
    "from sklearn.tree import DecisionTreeRegressor\n",
    "from sklearn.metrics import mean_absolute_error\n",
    "from datetime import datetime"
   ]
  },
  {
   "cell_type": "code",
   "execution_count": 2,
   "metadata": {},
   "outputs": [],
   "source": [
    "# Cargar los conjuntos de datos\n",
    "train_data = pd.read_csv(\"trainData.csv\")\n",
    "eval_data = pd.read_csv(\"evalData.csv\")"
   ]
  },
  {
   "cell_type": "code",
   "execution_count": 3,
   "metadata": {},
   "outputs": [],
   "source": [
    "# Limpieza de Datos y Preprocesamiento\n",
    "\n",
    "# Manejar valores faltantes\n",
    "train_data['departure_time'] = train_data['departure_time'].fillna(train_data['departure_time'].mode()[0])\n",
    "eval_data['departure_time'] = eval_data['departure_time'].fillna(eval_data['departure_time'].mode()[0])"
   ]
  },
  {
   "cell_type": "code",
   "execution_count": 4,
   "metadata": {},
   "outputs": [],
   "source": [
    "# Convertir 'date' y 'departure_time' a tipos de datos de fecha/hora\n",
    "train_data['date'] = pd.to_datetime(train_data['date'])\n",
    "eval_data['date'] = pd.to_datetime(eval_data['date'])\n",
    "train_data['departure_time'] = pd.to_datetime(train_data['departure_time'], format='%H:%M:%S').dt.time\n",
    "eval_data['departure_time'] = pd.to_datetime(eval_data['departure_time'], format='%H:%M:%S').dt.time\n"
   ]
  },
  {
   "cell_type": "code",
   "execution_count": 5,
   "metadata": {},
   "outputs": [],
   "source": [
    "# Extraer características adicionales\n",
    "train_data['day_of_week'] = train_data['date'].dt.dayofweek\n",
    "eval_data['day_of_week'] = eval_data['date'].dt.dayofweek\n",
    "train_data['hour_of_day'] = train_data['departure_time'].apply(lambda x: x.hour)\n",
    "eval_data['hour_of_day'] = eval_data['departure_time'].apply(lambda x: x.hour)\n"
   ]
  },
  {
   "cell_type": "code",
   "execution_count": 6,
   "metadata": {},
   "outputs": [],
   "source": [
    "# Eliminar columna innecesaria\n",
    "train_data = train_data.drop(columns=['Unnamed: 0'])\n",
    "eval_data = eval_data.drop(columns=['Unnamed: 0'])\n"
   ]
  },
  {
   "cell_type": "code",
   "execution_count": 7,
   "metadata": {},
   "outputs": [],
   "source": [
    "# Preparación de los Datos para los Modelos de Machine Learning\n",
    "\n",
    "# Dividir los datos\n",
    "X = train_data.drop(columns=['noshow'])\n",
    "y = train_data['noshow']\n",
    "X_train, X_valid, y_train, y_valid = train_test_split(X, y, test_size=0.2, random_state=42)\n"
   ]
  },
  {
   "cell_type": "code",
   "execution_count": 8,
   "metadata": {},
   "outputs": [],
   "source": [
    "# Identificar columnas numéricas y categóricas\n",
    "num_cols = X_train.select_dtypes(include=['int64', 'float64']).columns\n",
    "cat_cols = X_train.select_dtypes(include=['object']).columns\n"
   ]
  },
  {
   "cell_type": "code",
   "execution_count": 9,
   "metadata": {},
   "outputs": [],
   "source": [
    "# Crear transformadores para variables numéricas y categóricas\n",
    "num_transformer = StandardScaler()\n",
    "cat_transformer = OneHotEncoder(handle_unknown='ignore')\n",
    "\n",
    "# Crear preprocesador\n",
    "preprocessor = ColumnTransformer(\n",
    "    transformers=[\n",
    "        ('num', num_transformer, num_cols),\n",
    "        ('cat', cat_transformer, cat_cols)\n",
    "    ])\n"
   ]
  },
  {
   "cell_type": "code",
   "execution_count": 10,
   "metadata": {},
   "outputs": [
    {
     "name": "stderr",
     "output_type": "stream",
     "text": [
      "[I 2023-10-31 15:45:25,667] A new study created in memory with name: no-name-b52d348a-d4dd-4a18-9319-eaf1818b08ec\n",
      "[I 2023-10-31 16:39:05,105] Trial 0 finished with value: 3.1568109070247137 and parameters: {'n_neighbors': 15, 'weights': 'distance'}. Best is trial 0 with value: 3.1568109070247137.\n",
      "[I 2023-10-31 17:36:13,950] Trial 1 finished with value: 3.16645902477844 and parameters: {'n_neighbors': 14, 'weights': 'uniform'}. Best is trial 0 with value: 3.1568109070247137.\n",
      "[I 2023-10-31 18:30:06,047] Trial 2 finished with value: 3.281185930452349 and parameters: {'n_neighbors': 6, 'weights': 'uniform'}. Best is trial 0 with value: 3.1568109070247137.\n",
      "[I 2023-10-31 19:23:46,899] Trial 3 finished with value: 3.1777324305055985 and parameters: {'n_neighbors': 12, 'weights': 'distance'}. Best is trial 0 with value: 3.1568109070247137.\n",
      "[I 2023-10-31 20:19:11,160] Trial 4 finished with value: 3.163147615147962 and parameters: {'n_neighbors': 14, 'weights': 'distance'}. Best is trial 0 with value: 3.1568109070247137.\n"
     ]
    },
    {
     "name": "stdout",
     "output_type": "stream",
     "text": [
      "Número de pruebas finalizadas: 5\n",
      "Mejores parámetros: {'n_neighbors': 15, 'weights': 'distance'}\n",
      "Mejor MAE: 3.1568109070247137\n"
     ]
    }
   ],
   "source": [
    "import optuna\n",
    "\n",
    "def objective(trial):\n",
    "    # Definir el espacio de búsqueda de hiperparámetros\n",
    "    n_neighbors = trial.suggest_int('n_neighbors', 5, 15)\n",
    "    weights = trial.suggest_categorical('weights', ['uniform', 'distance'])\n",
    "    \n",
    "    # Crear el modelo con los hiperparámetros sugeridos\n",
    "    knn_model = KNeighborsRegressor(n_neighbors=n_neighbors, weights=weights)\n",
    "    knn_pipeline = Pipeline(steps=[('preprocessor', preprocessor),\n",
    "                                    ('model', knn_model)])\n",
    "    \n",
    "    # Entrenar el modelo y evaluar el rendimiento\n",
    "    knn_pipeline.fit(X_train, y_train)\n",
    "    y_pred = knn_pipeline.predict(X_valid)\n",
    "    mae = mean_absolute_error(y_valid, y_pred)\n",
    "    \n",
    "    return mae\n",
    "\n",
    "# Crear el estudio de Optuna y optimizar\n",
    "study = optuna.create_study(direction='minimize')\n",
    "study.optimize(objective, n_trials=5)\n",
    "\n",
    "# Resultados\n",
    "print('Número de pruebas finalizadas:', len(study.trials))\n",
    "print('Mejores parámetros:', study.best_params)\n",
    "print('Mejor MAE:', study.best_value)\n"
   ]
  },
  {
   "cell_type": "code",
   "execution_count": 10,
   "metadata": {},
   "outputs": [],
   "source": [
    "# Crear y entrenar el modelo final con los mejores hiperparámetros\n",
    "final_knn_model = KNeighborsRegressor(n_neighbors=15, weights='distance')\n",
    "final_knn_pipeline = Pipeline(steps=[('preprocessor', preprocessor),\n",
    "                                      ('model', final_knn_model)])\n",
    "final_knn_pipeline.fit(X_train, y_train)\n",
    "\n",
    "# Realizar predicciones en el conjunto de evaluación\n",
    "predictions = final_knn_pipeline.predict(eval_data)\n",
    "\n",
    "# Guardar las predicciones en un archivo CSV\n",
    "np.savetxt(\"predictions.csv\", predictions, delimiter=\",\")\n"
   ]
  },
  {
   "cell_type": "code",
   "execution_count": 11,
   "metadata": {},
   "outputs": [
    {
     "ename": "NameError",
     "evalue": "name 'knn_pipeline' is not defined",
     "output_type": "error",
     "traceback": [
      "\u001b[1;31m---------------------------------------------------------------------------\u001b[0m",
      "\u001b[1;31mNameError\u001b[0m                                 Traceback (most recent call last)",
      "\u001b[1;32mc:\\Users\\sebad\\OneDrive - Universidad Adolfo Ibanez\\Code\\Métodos de Aprendizaje Automático\\Tareas\\Tarea2\\tarea2_v2.ipynb Celda 12\u001b[0m line \u001b[0;36m6\n\u001b[0;32m      <a href='vscode-notebook-cell:/c%3A/Users/sebad/OneDrive%20-%20Universidad%20Adolfo%20Ibanez/Code/M%C3%A9todos%20de%20Aprendizaje%20Autom%C3%A1tico/Tareas/Tarea2/tarea2_v2.ipynb#X14sZmlsZQ%3D%3D?line=0'>1</a>\u001b[0m \u001b[39m# Ajustar los hiperparámetros para kNN\u001b[39;00m\n\u001b[0;32m      <a href='vscode-notebook-cell:/c%3A/Users/sebad/OneDrive%20-%20Universidad%20Adolfo%20Ibanez/Code/M%C3%A9todos%20de%20Aprendizaje%20Autom%C3%A1tico/Tareas/Tarea2/tarea2_v2.ipynb#X14sZmlsZQ%3D%3D?line=1'>2</a>\u001b[0m param_grid_knn \u001b[39m=\u001b[39m {\n\u001b[0;32m      <a href='vscode-notebook-cell:/c%3A/Users/sebad/OneDrive%20-%20Universidad%20Adolfo%20Ibanez/Code/M%C3%A9todos%20de%20Aprendizaje%20Autom%C3%A1tico/Tareas/Tarea2/tarea2_v2.ipynb#X14sZmlsZQ%3D%3D?line=2'>3</a>\u001b[0m     \u001b[39m'\u001b[39m\u001b[39mmodel__n_neighbors\u001b[39m\u001b[39m'\u001b[39m: [\u001b[39m5\u001b[39m, \u001b[39m10\u001b[39m, \u001b[39m15\u001b[39m],\n\u001b[0;32m      <a href='vscode-notebook-cell:/c%3A/Users/sebad/OneDrive%20-%20Universidad%20Adolfo%20Ibanez/Code/M%C3%A9todos%20de%20Aprendizaje%20Autom%C3%A1tico/Tareas/Tarea2/tarea2_v2.ipynb#X14sZmlsZQ%3D%3D?line=3'>4</a>\u001b[0m     \u001b[39m'\u001b[39m\u001b[39mmodel__weights\u001b[39m\u001b[39m'\u001b[39m: [\u001b[39m'\u001b[39m\u001b[39muniform\u001b[39m\u001b[39m'\u001b[39m, \u001b[39m'\u001b[39m\u001b[39mdistance\u001b[39m\u001b[39m'\u001b[39m]\n\u001b[0;32m      <a href='vscode-notebook-cell:/c%3A/Users/sebad/OneDrive%20-%20Universidad%20Adolfo%20Ibanez/Code/M%C3%A9todos%20de%20Aprendizaje%20Autom%C3%A1tico/Tareas/Tarea2/tarea2_v2.ipynb#X14sZmlsZQ%3D%3D?line=4'>5</a>\u001b[0m }\n\u001b[1;32m----> <a href='vscode-notebook-cell:/c%3A/Users/sebad/OneDrive%20-%20Universidad%20Adolfo%20Ibanez/Code/M%C3%A9todos%20de%20Aprendizaje%20Autom%C3%A1tico/Tareas/Tarea2/tarea2_v2.ipynb#X14sZmlsZQ%3D%3D?line=5'>6</a>\u001b[0m grid_search_knn \u001b[39m=\u001b[39m GridSearchCV(knn_pipeline, param_grid_knn, cv\u001b[39m=\u001b[39m\u001b[39m3\u001b[39m, scoring\u001b[39m=\u001b[39m\u001b[39m'\u001b[39m\u001b[39mneg_mean_absolute_error\u001b[39m\u001b[39m'\u001b[39m)\n\u001b[0;32m      <a href='vscode-notebook-cell:/c%3A/Users/sebad/OneDrive%20-%20Universidad%20Adolfo%20Ibanez/Code/M%C3%A9todos%20de%20Aprendizaje%20Autom%C3%A1tico/Tareas/Tarea2/tarea2_v2.ipynb#X14sZmlsZQ%3D%3D?line=6'>7</a>\u001b[0m grid_search_knn\u001b[39m.\u001b[39mfit(X_train, y_train)\n",
      "\u001b[1;31mNameError\u001b[0m: name 'knn_pipeline' is not defined"
     ]
    }
   ],
   "source": [
    "# Ajustar los hiperparámetros para kNN\n",
    "param_grid_knn = {\n",
    "    'model__n_neighbors': [5, 10, 15],\n",
    "    'model__weights': ['uniform', 'distance']\n",
    "}\n",
    "grid_search_knn = GridSearchCV(knn_pipeline, param_grid_knn, cv=3, scoring='neg_mean_absolute_error')\n",
    "grid_search_knn.fit(X_train, y_train)\n"
   ]
  },
  {
   "cell_type": "code",
   "execution_count": 12,
   "metadata": {},
   "outputs": [
    {
     "ename": "NameError",
     "evalue": "name 'grid_search_knn' is not defined",
     "output_type": "error",
     "traceback": [
      "\u001b[1;31m---------------------------------------------------------------------------\u001b[0m",
      "\u001b[1;31mNameError\u001b[0m                                 Traceback (most recent call last)",
      "\u001b[1;32mc:\\Users\\sebad\\OneDrive - Universidad Adolfo Ibanez\\Code\\Métodos de Aprendizaje Automático\\Tareas\\Tarea2\\tarea2_v2.ipynb Celda 13\u001b[0m line \u001b[0;36m2\n\u001b[0;32m      <a href='vscode-notebook-cell:/c%3A/Users/sebad/OneDrive%20-%20Universidad%20Adolfo%20Ibanez/Code/M%C3%A9todos%20de%20Aprendizaje%20Autom%C3%A1tico/Tareas/Tarea2/tarea2_v2.ipynb#X15sZmlsZQ%3D%3D?line=0'>1</a>\u001b[0m \u001b[39m# Evaluar el rendimiento de kNN\u001b[39;00m\n\u001b[1;32m----> <a href='vscode-notebook-cell:/c%3A/Users/sebad/OneDrive%20-%20Universidad%20Adolfo%20Ibanez/Code/M%C3%A9todos%20de%20Aprendizaje%20Autom%C3%A1tico/Tareas/Tarea2/tarea2_v2.ipynb#X15sZmlsZQ%3D%3D?line=1'>2</a>\u001b[0m y_pred_knn \u001b[39m=\u001b[39m grid_search_knn\u001b[39m.\u001b[39mpredict(X_valid)\n\u001b[0;32m      <a href='vscode-notebook-cell:/c%3A/Users/sebad/OneDrive%20-%20Universidad%20Adolfo%20Ibanez/Code/M%C3%A9todos%20de%20Aprendizaje%20Autom%C3%A1tico/Tareas/Tarea2/tarea2_v2.ipynb#X15sZmlsZQ%3D%3D?line=2'>3</a>\u001b[0m mae_knn \u001b[39m=\u001b[39m mean_absolute_error(y_valid, y_pred_knn)\n",
      "\u001b[1;31mNameError\u001b[0m: name 'grid_search_knn' is not defined"
     ]
    }
   ],
   "source": [
    "# Evaluar el rendimiento de kNN\n",
    "y_pred_knn = grid_search_knn.predict(X_valid)\n",
    "mae_knn = mean_absolute_error(y_valid, y_pred_knn)\n"
   ]
  },
  {
   "cell_type": "code",
   "execution_count": null,
   "metadata": {},
   "outputs": [],
   "source": [
    "# Modelo Árboles de Regresión\n",
    "tree_model = DecisionTreeRegressor()\n",
    "tree_pipeline = Pipeline(steps=[('preprocessor', preprocessor),\n",
    "                                 ('model', tree_model)])\n",
    "\n",
    "# Ajustar los hiperparámetros para Árboles de Regresión\n",
    "param_grid_tree = {\n",
    "    'model__max_depth': [5, 10, 15],\n",
    "    'model__min_samples_split': [2, 5, 10]\n",
    "}\n",
    "grid_search_tree = GridSearchCV(tree_pipeline, param_grid_tree, cv=3, scoring='neg_mean_absolute_error')\n",
    "grid_search_tree.fit(X_train, y_train)\n"
   ]
  },
  {
   "cell_type": "code",
   "execution_count": null,
   "metadata": {},
   "outputs": [],
   "source": [
    "# Evaluar el rendimiento de Árboles de Regresión\n",
    "y_pred_tree = grid_search_tree.predict(X_valid)\n",
    "mae_tree = mean_absolute_error(y_valid, y_pred_tree)\n"
   ]
  },
  {
   "cell_type": "code",
   "execution_count": null,
   "metadata": {},
   "outputs": [],
   "source": [
    "# Resultados\n",
    "print(\"Mejores hiperparámetros para kNN:\", grid_search_knn.best_params_)\n",
    "print(\"MAE para kNN:\", mae_knn)\n",
    "print(\"Mejores hiperparámetros para Árboles de Regresión:\", grid_search_tree.best_params_)\n",
    "print(\"MAE para Árboles de Regresión:\", mae_tree)\n"
   ]
  },
  {
   "cell_type": "code",
   "execution_count": null,
   "metadata": {},
   "outputs": [],
   "source": [
    "# Realizar Predicciones en el Conjunto de Evaluación\n",
    "final_model = grid_search_knn if mae_knn < mae_tree else grid_search_tree\n",
    "predictions = final_model.predict(eval_data)\n",
    "\n",
    "# Guardar las Predicciones en un Archivo CSV\n",
    "np.savetxt(\"predictions.csv\", predictions, delimiter=\",\")"
   ]
  }
 ],
 "metadata": {
  "kernelspec": {
   "display_name": "base",
   "language": "python",
   "name": "python3"
  },
  "language_info": {
   "codemirror_mode": {
    "name": "ipython",
    "version": 3
   },
   "file_extension": ".py",
   "mimetype": "text/x-python",
   "name": "python",
   "nbconvert_exporter": "python",
   "pygments_lexer": "ipython3",
   "version": "3.11.5"
  }
 },
 "nbformat": 4,
 "nbformat_minor": 2
}
